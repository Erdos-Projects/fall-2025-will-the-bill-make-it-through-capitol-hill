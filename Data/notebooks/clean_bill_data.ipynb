{
 "cells": [
  {
   "cell_type": "code",
   "execution_count": 101,
   "id": "750f82be",
   "metadata": {},
   "outputs": [],
   "source": [
    "import pandas as pd"
   ]
  },
  {
   "cell_type": "code",
   "execution_count": 102,
   "id": "623f5ae2",
   "metadata": {},
   "outputs": [],
   "source": [
    "df = pd.read_csv('congress_bills.csv')"
   ]
  },
  {
   "cell_type": "code",
   "execution_count": 103,
   "id": "095e9e81",
   "metadata": {},
   "outputs": [
    {
     "name": "stdout",
     "output_type": "stream",
     "text": [
      "Rows: 70250 Columns: 14\n",
      "Memory MB: 41.01\n"
     ]
    },
    {
     "data": {
      "application/vnd.microsoft.datawrangler.viewer.v0+json": {
       "columns": [
        {
         "name": "index",
         "rawType": "int64",
         "type": "integer"
        },
        {
         "name": "congress",
         "rawType": "int64",
         "type": "integer"
        },
        {
         "name": "type",
         "rawType": "object",
         "type": "string"
        },
        {
         "name": "number",
         "rawType": "int64",
         "type": "integer"
        },
        {
         "name": "url",
         "rawType": "object",
         "type": "string"
        },
        {
         "name": "title",
         "rawType": "object",
         "type": "string"
        },
        {
         "name": "chamber",
         "rawType": "object",
         "type": "string"
        },
        {
         "name": "introduced",
         "rawType": "object",
         "type": "string"
        },
        {
         "name": "sponsor",
         "rawType": "object",
         "type": "string"
        },
        {
         "name": "sponsor_party",
         "rawType": "object",
         "type": "string"
        },
        {
         "name": "policy_area",
         "rawType": "object",
         "type": "string"
        },
        {
         "name": "passed_senate",
         "rawType": "bool",
         "type": "boolean"
        },
        {
         "name": "passed_house",
         "rawType": "bool",
         "type": "boolean"
        },
        {
         "name": "to_president",
         "rawType": "bool",
         "type": "boolean"
        },
        {
         "name": "became_law",
         "rawType": "bool",
         "type": "boolean"
        }
       ],
       "ref": "12403fc9-ee8a-42b7-9607-24a8340bec34",
       "rows": [
        [
         "0",
         "119",
         "S",
         "2403",
         "https://api.congress.gov/v3/bill/119/s/2403?format=xml",
         "Retire through Ownership Act",
         "S",
         "2025-07-23",
         "Sen. Marshall, Roger [R-KS]",
         "R",
         "Labor and Employment",
         "True",
         "False",
         "False",
         "False"
        ],
        [
         "1",
         "119",
         "S",
         "1728",
         "https://api.congress.gov/v3/bill/119/s/1728?format=xml",
         "Employee Ownership Representation Act of 2025",
         "S",
         "2025-05-13",
         "Sen. Cassidy, Bill [R-LA]",
         "R",
         "Labor and Employment",
         "True",
         "False",
         "False",
         "False"
        ],
        [
         "2",
         "119",
         "S",
         "1440",
         "https://api.congress.gov/v3/bill/119/s/1440?format=xml",
         "Uniformed Services Leave Parity Act",
         "S",
         "2025-04-10",
         "Sen. Duckworth, Tammy [D-IL]",
         "D",
         "Health",
         "True",
         "False",
         "False",
         "False"
        ]
       ],
       "shape": {
        "columns": 14,
        "rows": 3
       }
      },
      "text/html": [
       "<div>\n",
       "<style scoped>\n",
       "    .dataframe tbody tr th:only-of-type {\n",
       "        vertical-align: middle;\n",
       "    }\n",
       "\n",
       "    .dataframe tbody tr th {\n",
       "        vertical-align: top;\n",
       "    }\n",
       "\n",
       "    .dataframe thead th {\n",
       "        text-align: right;\n",
       "    }\n",
       "</style>\n",
       "<table border=\"1\" class=\"dataframe\">\n",
       "  <thead>\n",
       "    <tr style=\"text-align: right;\">\n",
       "      <th></th>\n",
       "      <th>congress</th>\n",
       "      <th>type</th>\n",
       "      <th>number</th>\n",
       "      <th>url</th>\n",
       "      <th>title</th>\n",
       "      <th>chamber</th>\n",
       "      <th>introduced</th>\n",
       "      <th>sponsor</th>\n",
       "      <th>sponsor_party</th>\n",
       "      <th>policy_area</th>\n",
       "      <th>passed_senate</th>\n",
       "      <th>passed_house</th>\n",
       "      <th>to_president</th>\n",
       "      <th>became_law</th>\n",
       "    </tr>\n",
       "  </thead>\n",
       "  <tbody>\n",
       "    <tr>\n",
       "      <th>0</th>\n",
       "      <td>119</td>\n",
       "      <td>S</td>\n",
       "      <td>2403</td>\n",
       "      <td>https://api.congress.gov/v3/bill/119/s/2403?fo...</td>\n",
       "      <td>Retire through Ownership Act</td>\n",
       "      <td>S</td>\n",
       "      <td>2025-07-23</td>\n",
       "      <td>Sen. Marshall, Roger [R-KS]</td>\n",
       "      <td>R</td>\n",
       "      <td>Labor and Employment</td>\n",
       "      <td>True</td>\n",
       "      <td>False</td>\n",
       "      <td>False</td>\n",
       "      <td>False</td>\n",
       "    </tr>\n",
       "    <tr>\n",
       "      <th>1</th>\n",
       "      <td>119</td>\n",
       "      <td>S</td>\n",
       "      <td>1728</td>\n",
       "      <td>https://api.congress.gov/v3/bill/119/s/1728?fo...</td>\n",
       "      <td>Employee Ownership Representation Act of 2025</td>\n",
       "      <td>S</td>\n",
       "      <td>2025-05-13</td>\n",
       "      <td>Sen. Cassidy, Bill [R-LA]</td>\n",
       "      <td>R</td>\n",
       "      <td>Labor and Employment</td>\n",
       "      <td>True</td>\n",
       "      <td>False</td>\n",
       "      <td>False</td>\n",
       "      <td>False</td>\n",
       "    </tr>\n",
       "    <tr>\n",
       "      <th>2</th>\n",
       "      <td>119</td>\n",
       "      <td>S</td>\n",
       "      <td>1440</td>\n",
       "      <td>https://api.congress.gov/v3/bill/119/s/1440?fo...</td>\n",
       "      <td>Uniformed Services Leave Parity Act</td>\n",
       "      <td>S</td>\n",
       "      <td>2025-04-10</td>\n",
       "      <td>Sen. Duckworth, Tammy [D-IL]</td>\n",
       "      <td>D</td>\n",
       "      <td>Health</td>\n",
       "      <td>True</td>\n",
       "      <td>False</td>\n",
       "      <td>False</td>\n",
       "      <td>False</td>\n",
       "    </tr>\n",
       "  </tbody>\n",
       "</table>\n",
       "</div>"
      ],
      "text/plain": [
       "   congress type  number                                                url  \\\n",
       "0       119    S    2403  https://api.congress.gov/v3/bill/119/s/2403?fo...   \n",
       "1       119    S    1728  https://api.congress.gov/v3/bill/119/s/1728?fo...   \n",
       "2       119    S    1440  https://api.congress.gov/v3/bill/119/s/1440?fo...   \n",
       "\n",
       "                                           title chamber  introduced  \\\n",
       "0                   Retire through Ownership Act       S  2025-07-23   \n",
       "1  Employee Ownership Representation Act of 2025       S  2025-05-13   \n",
       "2            Uniformed Services Leave Parity Act       S  2025-04-10   \n",
       "\n",
       "                        sponsor sponsor_party           policy_area  \\\n",
       "0   Sen. Marshall, Roger [R-KS]             R  Labor and Employment   \n",
       "1     Sen. Cassidy, Bill [R-LA]             R  Labor and Employment   \n",
       "2  Sen. Duckworth, Tammy [D-IL]             D                Health   \n",
       "\n",
       "   passed_senate  passed_house  to_president  became_law  \n",
       "0           True         False         False       False  \n",
       "1           True         False         False       False  \n",
       "2           True         False         False       False  "
      ]
     },
     "metadata": {},
     "output_type": "display_data"
    },
    {
     "data": {
      "application/vnd.microsoft.datawrangler.viewer.v0+json": {
       "columns": [
        {
         "name": "index",
         "rawType": "int64",
         "type": "integer"
        },
        {
         "name": "congress",
         "rawType": "int64",
         "type": "integer"
        },
        {
         "name": "type",
         "rawType": "object",
         "type": "string"
        },
        {
         "name": "number",
         "rawType": "int64",
         "type": "integer"
        },
        {
         "name": "url",
         "rawType": "object",
         "type": "string"
        },
        {
         "name": "title",
         "rawType": "object",
         "type": "string"
        },
        {
         "name": "chamber",
         "rawType": "object",
         "type": "string"
        },
        {
         "name": "introduced",
         "rawType": "object",
         "type": "string"
        },
        {
         "name": "sponsor",
         "rawType": "object",
         "type": "string"
        },
        {
         "name": "sponsor_party",
         "rawType": "object",
         "type": "string"
        },
        {
         "name": "policy_area",
         "rawType": "object",
         "type": "string"
        },
        {
         "name": "passed_senate",
         "rawType": "bool",
         "type": "boolean"
        },
        {
         "name": "passed_house",
         "rawType": "bool",
         "type": "boolean"
        },
        {
         "name": "to_president",
         "rawType": "bool",
         "type": "boolean"
        },
        {
         "name": "became_law",
         "rawType": "bool",
         "type": "boolean"
        }
       ],
       "ref": "c2a366ad-f6fe-4878-83d6-a7c47026aaf4",
       "rows": [
        [
         "70247",
         "113",
         "S",
         "285",
         "https://api.congress.gov/v3/bill/113/s/285?format=xml",
         "Valles Caldera National Preserve Management Act",
         "S",
         "2013-02-12 00:00:00",
         "Sen. Udall, Tom [D-NM]",
         "D",
         "Public Lands and Natural Resources",
         "False",
         "False",
         "False",
         "False"
        ],
        [
         "70248",
         "113",
         "S",
         "28",
         "https://api.congress.gov/v3/bill/113/s/28?format=xml",
         "Upper Y Mountain Trail and Y Conveyance Act",
         "S",
         "2013-01-22 00:00:00",
         "Sen. Hatch, Orrin G. [R-UT]",
         "R",
         "Public Lands and Natural Resources",
         "False",
         "False",
         "False",
         "False"
        ],
        [
         "70249",
         "113",
         "S",
         "255",
         "https://api.congress.gov/v3/bill/113/s/255?format=xml",
         "North Fork Watershed Protection Act of 2013",
         "S",
         "2013-02-07 00:00:00",
         "Sen. Baucus, Max [D-MT]",
         "D",
         "Public Lands and Natural Resources",
         "False",
         "False",
         "False",
         "False"
        ]
       ],
       "shape": {
        "columns": 14,
        "rows": 3
       }
      },
      "text/html": [
       "<div>\n",
       "<style scoped>\n",
       "    .dataframe tbody tr th:only-of-type {\n",
       "        vertical-align: middle;\n",
       "    }\n",
       "\n",
       "    .dataframe tbody tr th {\n",
       "        vertical-align: top;\n",
       "    }\n",
       "\n",
       "    .dataframe thead th {\n",
       "        text-align: right;\n",
       "    }\n",
       "</style>\n",
       "<table border=\"1\" class=\"dataframe\">\n",
       "  <thead>\n",
       "    <tr style=\"text-align: right;\">\n",
       "      <th></th>\n",
       "      <th>congress</th>\n",
       "      <th>type</th>\n",
       "      <th>number</th>\n",
       "      <th>url</th>\n",
       "      <th>title</th>\n",
       "      <th>chamber</th>\n",
       "      <th>introduced</th>\n",
       "      <th>sponsor</th>\n",
       "      <th>sponsor_party</th>\n",
       "      <th>policy_area</th>\n",
       "      <th>passed_senate</th>\n",
       "      <th>passed_house</th>\n",
       "      <th>to_president</th>\n",
       "      <th>became_law</th>\n",
       "    </tr>\n",
       "  </thead>\n",
       "  <tbody>\n",
       "    <tr>\n",
       "      <th>70247</th>\n",
       "      <td>113</td>\n",
       "      <td>S</td>\n",
       "      <td>285</td>\n",
       "      <td>https://api.congress.gov/v3/bill/113/s/285?for...</td>\n",
       "      <td>Valles Caldera National Preserve Management Act</td>\n",
       "      <td>S</td>\n",
       "      <td>2013-02-12 00:00:00</td>\n",
       "      <td>Sen. Udall, Tom [D-NM]</td>\n",
       "      <td>D</td>\n",
       "      <td>Public Lands and Natural Resources</td>\n",
       "      <td>False</td>\n",
       "      <td>False</td>\n",
       "      <td>False</td>\n",
       "      <td>False</td>\n",
       "    </tr>\n",
       "    <tr>\n",
       "      <th>70248</th>\n",
       "      <td>113</td>\n",
       "      <td>S</td>\n",
       "      <td>28</td>\n",
       "      <td>https://api.congress.gov/v3/bill/113/s/28?form...</td>\n",
       "      <td>Upper Y Mountain Trail and Y Conveyance Act</td>\n",
       "      <td>S</td>\n",
       "      <td>2013-01-22 00:00:00</td>\n",
       "      <td>Sen. Hatch, Orrin G. [R-UT]</td>\n",
       "      <td>R</td>\n",
       "      <td>Public Lands and Natural Resources</td>\n",
       "      <td>False</td>\n",
       "      <td>False</td>\n",
       "      <td>False</td>\n",
       "      <td>False</td>\n",
       "    </tr>\n",
       "    <tr>\n",
       "      <th>70249</th>\n",
       "      <td>113</td>\n",
       "      <td>S</td>\n",
       "      <td>255</td>\n",
       "      <td>https://api.congress.gov/v3/bill/113/s/255?for...</td>\n",
       "      <td>North Fork Watershed Protection Act of 2013</td>\n",
       "      <td>S</td>\n",
       "      <td>2013-02-07 00:00:00</td>\n",
       "      <td>Sen. Baucus, Max [D-MT]</td>\n",
       "      <td>D</td>\n",
       "      <td>Public Lands and Natural Resources</td>\n",
       "      <td>False</td>\n",
       "      <td>False</td>\n",
       "      <td>False</td>\n",
       "      <td>False</td>\n",
       "    </tr>\n",
       "  </tbody>\n",
       "</table>\n",
       "</div>"
      ],
      "text/plain": [
       "       congress type  number  \\\n",
       "70247       113    S     285   \n",
       "70248       113    S      28   \n",
       "70249       113    S     255   \n",
       "\n",
       "                                                     url  \\\n",
       "70247  https://api.congress.gov/v3/bill/113/s/285?for...   \n",
       "70248  https://api.congress.gov/v3/bill/113/s/28?form...   \n",
       "70249  https://api.congress.gov/v3/bill/113/s/255?for...   \n",
       "\n",
       "                                                 title chamber  \\\n",
       "70247  Valles Caldera National Preserve Management Act       S   \n",
       "70248      Upper Y Mountain Trail and Y Conveyance Act       S   \n",
       "70249      North Fork Watershed Protection Act of 2013       S   \n",
       "\n",
       "                introduced                      sponsor sponsor_party  \\\n",
       "70247  2013-02-12 00:00:00       Sen. Udall, Tom [D-NM]             D   \n",
       "70248  2013-01-22 00:00:00  Sen. Hatch, Orrin G. [R-UT]             R   \n",
       "70249  2013-02-07 00:00:00      Sen. Baucus, Max [D-MT]             D   \n",
       "\n",
       "                              policy_area  passed_senate  passed_house  \\\n",
       "70247  Public Lands and Natural Resources          False         False   \n",
       "70248  Public Lands and Natural Resources          False         False   \n",
       "70249  Public Lands and Natural Resources          False         False   \n",
       "\n",
       "       to_president  became_law  \n",
       "70247         False       False  \n",
       "70248         False       False  \n",
       "70249         False       False  "
      ]
     },
     "metadata": {},
     "output_type": "display_data"
    },
    {
     "data": {
      "application/vnd.microsoft.datawrangler.viewer.v0+json": {
       "columns": [
        {
         "name": "index",
         "rawType": "object",
         "type": "string"
        },
        {
         "name": "count",
         "rawType": "object",
         "type": "unknown"
        },
        {
         "name": "unique",
         "rawType": "object",
         "type": "unknown"
        },
        {
         "name": "top",
         "rawType": "object",
         "type": "unknown"
        },
        {
         "name": "freq",
         "rawType": "object",
         "type": "unknown"
        },
        {
         "name": "mean",
         "rawType": "object",
         "type": "unknown"
        },
        {
         "name": "std",
         "rawType": "object",
         "type": "unknown"
        },
        {
         "name": "min",
         "rawType": "object",
         "type": "unknown"
        },
        {
         "name": "25%",
         "rawType": "object",
         "type": "unknown"
        },
        {
         "name": "50%",
         "rawType": "object",
         "type": "unknown"
        },
        {
         "name": "75%",
         "rawType": "object",
         "type": "unknown"
        },
        {
         "name": "max",
         "rawType": "object",
         "type": "unknown"
        }
       ],
       "ref": "837d5e99-a3db-4bf2-b8fe-dd29f91c5dd0",
       "rows": [
        [
         "congress",
         "70250.0",
         null,
         null,
         null,
         "116.4103202846975",
         "1.9161096012070122",
         "113.0",
         "115.0",
         "116.0",
         "118.0",
         "119.0"
        ],
        [
         "type",
         "70250",
         "8",
         "HR",
         "39876",
         null,
         null,
         null,
         null,
         null,
         null,
         null
        ],
        [
         "number",
         "70250.0",
         null,
         null,
         null,
         "3251.0475302491104",
         "2598.659686226335",
         "1.0",
         "972.0",
         "2772.5",
         "4918.0",
         "10564.0"
        ],
        [
         "url",
         "70250",
         "70250",
         "https://api.congress.gov/v3/bill/119/s/2403?format=xml",
         "1",
         null,
         null,
         null,
         null,
         null,
         null,
         null
        ],
        [
         "title",
         "70250",
         "52718",
         "Electing Members to certain standing committees of the House of Representatives.",
         "85",
         null,
         null,
         null,
         null,
         null,
         null,
         null
        ],
        [
         "chamber",
         "70250",
         "2",
         "H",
         "47481",
         null,
         null,
         null,
         null,
         null,
         null,
         null
        ],
        [
         "introduced",
         "70250",
         "2388",
         "2023-03-29 00:00:00",
         "612",
         null,
         null,
         null,
         null,
         null,
         null,
         null
        ],
        [
         "sponsor",
         "70250",
         "1208",
         "Rep. Biggs, Andy [R-AZ-5]",
         "806",
         null,
         null,
         null,
         null,
         null,
         null,
         null
        ],
        [
         "sponsor_party",
         "70250",
         "4",
         "D",
         "35966",
         null,
         null,
         null,
         null,
         null,
         null,
         null
        ],
        [
         "policy_area",
         "69486",
         "33",
         "Health",
         "7766",
         null,
         null,
         null,
         null,
         null,
         null,
         null
        ],
        [
         "passed_senate",
         "70250",
         "2",
         "False",
         "68775",
         null,
         null,
         null,
         null,
         null,
         null,
         null
        ],
        [
         "passed_house",
         "70250",
         "2",
         "False",
         "68779",
         null,
         null,
         null,
         null,
         null,
         null,
         null
        ],
        [
         "to_president",
         "70250",
         "2",
         "False",
         "68816",
         null,
         null,
         null,
         null,
         null,
         null,
         null
        ],
        [
         "became_law",
         "70250",
         "2",
         "False",
         "68816",
         null,
         null,
         null,
         null,
         null,
         null,
         null
        ]
       ],
       "shape": {
        "columns": 11,
        "rows": 14
       }
      },
      "text/html": [
       "<div>\n",
       "<style scoped>\n",
       "    .dataframe tbody tr th:only-of-type {\n",
       "        vertical-align: middle;\n",
       "    }\n",
       "\n",
       "    .dataframe tbody tr th {\n",
       "        vertical-align: top;\n",
       "    }\n",
       "\n",
       "    .dataframe thead th {\n",
       "        text-align: right;\n",
       "    }\n",
       "</style>\n",
       "<table border=\"1\" class=\"dataframe\">\n",
       "  <thead>\n",
       "    <tr style=\"text-align: right;\">\n",
       "      <th></th>\n",
       "      <th>count</th>\n",
       "      <th>unique</th>\n",
       "      <th>top</th>\n",
       "      <th>freq</th>\n",
       "      <th>mean</th>\n",
       "      <th>std</th>\n",
       "      <th>min</th>\n",
       "      <th>25%</th>\n",
       "      <th>50%</th>\n",
       "      <th>75%</th>\n",
       "      <th>max</th>\n",
       "    </tr>\n",
       "  </thead>\n",
       "  <tbody>\n",
       "    <tr>\n",
       "      <th>congress</th>\n",
       "      <td>70250.0</td>\n",
       "      <td>NaN</td>\n",
       "      <td>NaN</td>\n",
       "      <td>NaN</td>\n",
       "      <td>116.41032</td>\n",
       "      <td>1.91611</td>\n",
       "      <td>113.0</td>\n",
       "      <td>115.0</td>\n",
       "      <td>116.0</td>\n",
       "      <td>118.0</td>\n",
       "      <td>119.0</td>\n",
       "    </tr>\n",
       "    <tr>\n",
       "      <th>type</th>\n",
       "      <td>70250</td>\n",
       "      <td>8</td>\n",
       "      <td>HR</td>\n",
       "      <td>39876</td>\n",
       "      <td>NaN</td>\n",
       "      <td>NaN</td>\n",
       "      <td>NaN</td>\n",
       "      <td>NaN</td>\n",
       "      <td>NaN</td>\n",
       "      <td>NaN</td>\n",
       "      <td>NaN</td>\n",
       "    </tr>\n",
       "    <tr>\n",
       "      <th>number</th>\n",
       "      <td>70250.0</td>\n",
       "      <td>NaN</td>\n",
       "      <td>NaN</td>\n",
       "      <td>NaN</td>\n",
       "      <td>3251.04753</td>\n",
       "      <td>2598.659686</td>\n",
       "      <td>1.0</td>\n",
       "      <td>972.0</td>\n",
       "      <td>2772.5</td>\n",
       "      <td>4918.0</td>\n",
       "      <td>10564.0</td>\n",
       "    </tr>\n",
       "    <tr>\n",
       "      <th>url</th>\n",
       "      <td>70250</td>\n",
       "      <td>70250</td>\n",
       "      <td>https://api.congress.gov/v3/bill/119/s/2403?fo...</td>\n",
       "      <td>1</td>\n",
       "      <td>NaN</td>\n",
       "      <td>NaN</td>\n",
       "      <td>NaN</td>\n",
       "      <td>NaN</td>\n",
       "      <td>NaN</td>\n",
       "      <td>NaN</td>\n",
       "      <td>NaN</td>\n",
       "    </tr>\n",
       "    <tr>\n",
       "      <th>title</th>\n",
       "      <td>70250</td>\n",
       "      <td>52718</td>\n",
       "      <td>Electing Members to certain standing committee...</td>\n",
       "      <td>85</td>\n",
       "      <td>NaN</td>\n",
       "      <td>NaN</td>\n",
       "      <td>NaN</td>\n",
       "      <td>NaN</td>\n",
       "      <td>NaN</td>\n",
       "      <td>NaN</td>\n",
       "      <td>NaN</td>\n",
       "    </tr>\n",
       "    <tr>\n",
       "      <th>chamber</th>\n",
       "      <td>70250</td>\n",
       "      <td>2</td>\n",
       "      <td>H</td>\n",
       "      <td>47481</td>\n",
       "      <td>NaN</td>\n",
       "      <td>NaN</td>\n",
       "      <td>NaN</td>\n",
       "      <td>NaN</td>\n",
       "      <td>NaN</td>\n",
       "      <td>NaN</td>\n",
       "      <td>NaN</td>\n",
       "    </tr>\n",
       "    <tr>\n",
       "      <th>introduced</th>\n",
       "      <td>70250</td>\n",
       "      <td>2388</td>\n",
       "      <td>2023-03-29 00:00:00</td>\n",
       "      <td>612</td>\n",
       "      <td>NaN</td>\n",
       "      <td>NaN</td>\n",
       "      <td>NaN</td>\n",
       "      <td>NaN</td>\n",
       "      <td>NaN</td>\n",
       "      <td>NaN</td>\n",
       "      <td>NaN</td>\n",
       "    </tr>\n",
       "    <tr>\n",
       "      <th>sponsor</th>\n",
       "      <td>70250</td>\n",
       "      <td>1208</td>\n",
       "      <td>Rep. Biggs, Andy [R-AZ-5]</td>\n",
       "      <td>806</td>\n",
       "      <td>NaN</td>\n",
       "      <td>NaN</td>\n",
       "      <td>NaN</td>\n",
       "      <td>NaN</td>\n",
       "      <td>NaN</td>\n",
       "      <td>NaN</td>\n",
       "      <td>NaN</td>\n",
       "    </tr>\n",
       "    <tr>\n",
       "      <th>sponsor_party</th>\n",
       "      <td>70250</td>\n",
       "      <td>4</td>\n",
       "      <td>D</td>\n",
       "      <td>35966</td>\n",
       "      <td>NaN</td>\n",
       "      <td>NaN</td>\n",
       "      <td>NaN</td>\n",
       "      <td>NaN</td>\n",
       "      <td>NaN</td>\n",
       "      <td>NaN</td>\n",
       "      <td>NaN</td>\n",
       "    </tr>\n",
       "    <tr>\n",
       "      <th>policy_area</th>\n",
       "      <td>69486</td>\n",
       "      <td>33</td>\n",
       "      <td>Health</td>\n",
       "      <td>7766</td>\n",
       "      <td>NaN</td>\n",
       "      <td>NaN</td>\n",
       "      <td>NaN</td>\n",
       "      <td>NaN</td>\n",
       "      <td>NaN</td>\n",
       "      <td>NaN</td>\n",
       "      <td>NaN</td>\n",
       "    </tr>\n",
       "    <tr>\n",
       "      <th>passed_senate</th>\n",
       "      <td>70250</td>\n",
       "      <td>2</td>\n",
       "      <td>False</td>\n",
       "      <td>68775</td>\n",
       "      <td>NaN</td>\n",
       "      <td>NaN</td>\n",
       "      <td>NaN</td>\n",
       "      <td>NaN</td>\n",
       "      <td>NaN</td>\n",
       "      <td>NaN</td>\n",
       "      <td>NaN</td>\n",
       "    </tr>\n",
       "    <tr>\n",
       "      <th>passed_house</th>\n",
       "      <td>70250</td>\n",
       "      <td>2</td>\n",
       "      <td>False</td>\n",
       "      <td>68779</td>\n",
       "      <td>NaN</td>\n",
       "      <td>NaN</td>\n",
       "      <td>NaN</td>\n",
       "      <td>NaN</td>\n",
       "      <td>NaN</td>\n",
       "      <td>NaN</td>\n",
       "      <td>NaN</td>\n",
       "    </tr>\n",
       "    <tr>\n",
       "      <th>to_president</th>\n",
       "      <td>70250</td>\n",
       "      <td>2</td>\n",
       "      <td>False</td>\n",
       "      <td>68816</td>\n",
       "      <td>NaN</td>\n",
       "      <td>NaN</td>\n",
       "      <td>NaN</td>\n",
       "      <td>NaN</td>\n",
       "      <td>NaN</td>\n",
       "      <td>NaN</td>\n",
       "      <td>NaN</td>\n",
       "    </tr>\n",
       "    <tr>\n",
       "      <th>became_law</th>\n",
       "      <td>70250</td>\n",
       "      <td>2</td>\n",
       "      <td>False</td>\n",
       "      <td>68816</td>\n",
       "      <td>NaN</td>\n",
       "      <td>NaN</td>\n",
       "      <td>NaN</td>\n",
       "      <td>NaN</td>\n",
       "      <td>NaN</td>\n",
       "      <td>NaN</td>\n",
       "      <td>NaN</td>\n",
       "    </tr>\n",
       "  </tbody>\n",
       "</table>\n",
       "</div>"
      ],
      "text/plain": [
       "                 count unique  \\\n",
       "congress       70250.0    NaN   \n",
       "type             70250      8   \n",
       "number         70250.0    NaN   \n",
       "url              70250  70250   \n",
       "title            70250  52718   \n",
       "chamber          70250      2   \n",
       "introduced       70250   2388   \n",
       "sponsor          70250   1208   \n",
       "sponsor_party    70250      4   \n",
       "policy_area      69486     33   \n",
       "passed_senate    70250      2   \n",
       "passed_house     70250      2   \n",
       "to_president     70250      2   \n",
       "became_law       70250      2   \n",
       "\n",
       "                                                             top   freq  \\\n",
       "congress                                                     NaN    NaN   \n",
       "type                                                          HR  39876   \n",
       "number                                                       NaN    NaN   \n",
       "url            https://api.congress.gov/v3/bill/119/s/2403?fo...      1   \n",
       "title          Electing Members to certain standing committee...     85   \n",
       "chamber                                                        H  47481   \n",
       "introduced                                   2023-03-29 00:00:00    612   \n",
       "sponsor                                Rep. Biggs, Andy [R-AZ-5]    806   \n",
       "sponsor_party                                                  D  35966   \n",
       "policy_area                                               Health   7766   \n",
       "passed_senate                                              False  68775   \n",
       "passed_house                                               False  68779   \n",
       "to_president                                               False  68816   \n",
       "became_law                                                 False  68816   \n",
       "\n",
       "                     mean          std    min    25%     50%     75%      max  \n",
       "congress        116.41032      1.91611  113.0  115.0   116.0   118.0    119.0  \n",
       "type                  NaN          NaN    NaN    NaN     NaN     NaN      NaN  \n",
       "number         3251.04753  2598.659686    1.0  972.0  2772.5  4918.0  10564.0  \n",
       "url                   NaN          NaN    NaN    NaN     NaN     NaN      NaN  \n",
       "title                 NaN          NaN    NaN    NaN     NaN     NaN      NaN  \n",
       "chamber               NaN          NaN    NaN    NaN     NaN     NaN      NaN  \n",
       "introduced            NaN          NaN    NaN    NaN     NaN     NaN      NaN  \n",
       "sponsor               NaN          NaN    NaN    NaN     NaN     NaN      NaN  \n",
       "sponsor_party         NaN          NaN    NaN    NaN     NaN     NaN      NaN  \n",
       "policy_area           NaN          NaN    NaN    NaN     NaN     NaN      NaN  \n",
       "passed_senate         NaN          NaN    NaN    NaN     NaN     NaN      NaN  \n",
       "passed_house          NaN          NaN    NaN    NaN     NaN     NaN      NaN  \n",
       "to_president          NaN          NaN    NaN    NaN     NaN     NaN      NaN  \n",
       "became_law            NaN          NaN    NaN    NaN     NaN     NaN      NaN  "
      ]
     },
     "metadata": {},
     "output_type": "display_data"
    }
   ],
   "source": [
    "print('Rows:', len(df), 'Columns:', df.shape[1])\n",
    "mem = df.memory_usage(deep=True).sum() / (1024**2)\n",
    "print(f'Memory MB: {mem:.2f}')\n",
    "display(df.head(3))\n",
    "display(df.tail(3))\n",
    "display(df.describe(include='all').T)"
   ]
  },
  {
   "cell_type": "code",
   "execution_count": 104,
   "id": "97d64b66",
   "metadata": {},
   "outputs": [],
   "source": [
    "# make one column for a unique id congress.type.number\n",
    "df['id'] = (df['congress'].astype('string')+'.'\n",
    "            +df['type'].astype('string')+'.'\n",
    "            +df['number'].astype('string'))"
   ]
  },
  {
   "cell_type": "code",
   "execution_count": 105,
   "id": "41060750",
   "metadata": {},
   "outputs": [
    {
     "data": {
      "application/vnd.microsoft.datawrangler.viewer.v0+json": {
       "columns": [
        {
         "name": "index",
         "rawType": "int64",
         "type": "integer"
        },
        {
         "name": "id",
         "rawType": "string",
         "type": "string"
        }
       ],
       "ref": "2f57a99f-563a-4c6b-b5f8-6f02d9c58428",
       "rows": [
        [
         "0",
         "119.S.2403"
        ],
        [
         "1",
         "119.S.1728"
        ],
        [
         "2",
         "119.S.1440"
        ],
        [
         "3",
         "119.S.2283"
        ],
        [
         "4",
         "119.SRES.337"
        ],
        [
         "5",
         "119.SRES.448"
        ],
        [
         "6",
         "119.SRES.447"
        ],
        [
         "7",
         "119.SRES.446"
        ],
        [
         "8",
         "119.HR.5371"
        ],
        [
         "9",
         "119.S.3001"
        ],
        [
         "10",
         "119.S.3000"
        ],
        [
         "11",
         "119.S.2999"
        ],
        [
         "12",
         "119.S.2998"
        ],
        [
         "13",
         "119.S.2997"
        ],
        [
         "14",
         "119.S.2996"
        ],
        [
         "15",
         "119.S.2882"
        ],
        [
         "16",
         "119.S.2995"
        ],
        [
         "17",
         "119.S.2994"
        ],
        [
         "18",
         "119.S.2993"
        ],
        [
         "19",
         "119.SJRES.83"
        ],
        [
         "20",
         "119.SJRES.71"
        ],
        [
         "21",
         "119.S.2991"
        ],
        [
         "22",
         "119.S.2992"
        ],
        [
         "23",
         "119.S.2898"
        ],
        [
         "24",
         "119.SRES.443"
        ],
        [
         "25",
         "119.S.2990"
        ],
        [
         "26",
         "119.HR.3123"
        ],
        [
         "27",
         "119.SJRES.89"
        ],
        [
         "28",
         "119.SRES.442"
        ],
        [
         "29",
         "119.HR.5720"
        ],
        [
         "30",
         "119.HRES.798"
        ],
        [
         "31",
         "119.HR.5709"
        ],
        [
         "32",
         "119.HR.5718"
        ],
        [
         "33",
         "119.HR.5716"
        ],
        [
         "34",
         "119.HRES.793"
        ],
        [
         "35",
         "119.HR.5711"
        ],
        [
         "36",
         "119.HR.5725"
        ],
        [
         "37",
         "119.HR.5706"
        ],
        [
         "38",
         "119.HR.5712"
        ],
        [
         "39",
         "119.HR.5713"
        ],
        [
         "40",
         "119.HR.5723"
        ],
        [
         "41",
         "119.HR.5719"
        ],
        [
         "42",
         "119.HRES.792"
        ],
        [
         "43",
         "119.HRES.794"
        ],
        [
         "44",
         "119.HR.5717"
        ],
        [
         "45",
         "119.HR.5708"
        ],
        [
         "46",
         "119.HR.5710"
        ],
        [
         "47",
         "119.HRES.796"
        ],
        [
         "48",
         "119.HJRES.130"
        ],
        [
         "49",
         "119.S.2989"
        ]
       ],
       "shape": {
        "columns": 1,
        "rows": 70250
       }
      },
      "text/plain": [
       "0          119.S.2403\n",
       "1          119.S.1728\n",
       "2          119.S.1440\n",
       "3          119.S.2283\n",
       "4        119.SRES.337\n",
       "             ...     \n",
       "70245       113.S.159\n",
       "70246       113.S.155\n",
       "70247       113.S.285\n",
       "70248        113.S.28\n",
       "70249       113.S.255\n",
       "Name: id, Length: 70250, dtype: string"
      ]
     },
     "execution_count": 105,
     "metadata": {},
     "output_type": "execute_result"
    }
   ],
   "source": [
    "df.id"
   ]
  },
  {
   "cell_type": "code",
   "execution_count": 106,
   "id": "82ff3e9e",
   "metadata": {},
   "outputs": [
    {
     "data": {
      "text/plain": [
       "0"
      ]
     },
     "execution_count": 106,
     "metadata": {},
     "output_type": "execute_result"
    }
   ],
   "source": [
    "# check for duplicates\n",
    "len(df[df.duplicated()])"
   ]
  },
  {
   "cell_type": "code",
   "execution_count": 107,
   "id": "ef638af6",
   "metadata": {},
   "outputs": [
    {
     "data": {
      "text/plain": [
       "array(['S', 'SRES', 'HR', 'SJRES', 'HRES', 'HJRES', 'HCONRES', 'SCONRES'],\n",
       "      dtype=object)"
      ]
     },
     "execution_count": 107,
     "metadata": {},
     "output_type": "execute_result"
    }
   ],
   "source": [
    "# looks like the `type` of bill includes more than just house/senate\n",
    "df.type.unique()"
   ]
  },
  {
   "cell_type": "code",
   "execution_count": 108,
   "id": "6ea565e1",
   "metadata": {},
   "outputs": [
    {
     "name": "stdout",
     "output_type": "stream",
     "text": [
      "type = S\n",
      "pass% = 0.30404463040446306\n",
      "\n",
      "type = SRES\n",
      "pass% = 0.0\n",
      "\n",
      "type = HR\n",
      "pass% = 0.6582984658298466\n",
      "\n",
      "type = SJRES\n",
      "pass% = 0.011854951185495118\n",
      "\n",
      "type = HRES\n",
      "pass% = 0.0\n",
      "\n",
      "type = HJRES\n",
      "pass% = 0.02580195258019526\n",
      "\n",
      "type = HCONRES\n",
      "pass% = 0.0\n",
      "\n",
      "type = SCONRES\n",
      "pass% = 0.0\n",
      "\n"
     ]
    }
   ],
   "source": [
    "# should we include these other types? \n",
    "def pass_percent(row, value):\n",
    "    return len(df[(df[row]==value)&df.became_law])/len(df[df.became_law])\n",
    "\n",
    "types = df.type.unique()\n",
    "for bill_type in types:\n",
    "    passage = pass_percent('type', bill_type)\n",
    "    print(f'type = {bill_type}\\npass% = {passage}\\n')"
   ]
  },
  {
   "cell_type": "markdown",
   "id": "890e84b5",
   "metadata": {},
   "source": [
    "After looking more into the [details](https://www.senate.gov/legislative/common/briefing/leg_laws_acts.htm), it turns out there are not only regular bills, but there are also three type of resolutions: Joint Resolutions, Concurrent Resolutions and Simple Resolutions. Only Bills and Joint Resolutions have the potential to become law; the others are for deciding rules which apply to doing business within the chambers themselves. We should remove those from the table."
   ]
  },
  {
   "cell_type": "code",
   "execution_count": 109,
   "id": "32fa2b56",
   "metadata": {},
   "outputs": [
    {
     "data": {
      "text/plain": [
       "array(['S', 'HR', 'SJRES', 'HJRES'], dtype=object)"
      ]
     },
     "execution_count": 109,
     "metadata": {},
     "output_type": "execute_result"
    }
   ],
   "source": [
    "df = df[df.type.isin(['HR', 'S', 'HJRES', 'SJRES'])]\n",
    "df.type.unique()"
   ]
  },
  {
   "cell_type": "code",
   "execution_count": 110,
   "id": "7a74f4b7",
   "metadata": {},
   "outputs": [
    {
     "data": {
      "text/plain": [
       "array(['R', 'D', 'I', 'L'], dtype=object)"
      ]
     },
     "execution_count": 110,
     "metadata": {},
     "output_type": "execute_result"
    }
   ],
   "source": [
    "# looks like there are more than two parties: \n",
    "# Democrat, Republican, Independent, and Libertarian\n",
    "df.sponsor_party.unique()"
   ]
  },
  {
   "cell_type": "code",
   "execution_count": 111,
   "id": "4bf2e432",
   "metadata": {},
   "outputs": [
    {
     "data": {
      "application/vnd.microsoft.datawrangler.viewer.v0+json": {
       "columns": [
        {
         "name": "index",
         "rawType": "int64",
         "type": "integer"
        },
        {
         "name": "congress",
         "rawType": "int64",
         "type": "integer"
        },
        {
         "name": "type",
         "rawType": "object",
         "type": "string"
        },
        {
         "name": "number",
         "rawType": "int64",
         "type": "integer"
        },
        {
         "name": "url",
         "rawType": "object",
         "type": "string"
        },
        {
         "name": "title",
         "rawType": "object",
         "type": "string"
        },
        {
         "name": "chamber",
         "rawType": "object",
         "type": "string"
        },
        {
         "name": "introduced",
         "rawType": "object",
         "type": "string"
        },
        {
         "name": "sponsor",
         "rawType": "object",
         "type": "string"
        },
        {
         "name": "sponsor_party",
         "rawType": "object",
         "type": "string"
        },
        {
         "name": "policy_area",
         "rawType": "object",
         "type": "string"
        },
        {
         "name": "passed_senate",
         "rawType": "bool",
         "type": "boolean"
        },
        {
         "name": "passed_house",
         "rawType": "bool",
         "type": "boolean"
        },
        {
         "name": "to_president",
         "rawType": "bool",
         "type": "boolean"
        },
        {
         "name": "became_law",
         "rawType": "bool",
         "type": "boolean"
        },
        {
         "name": "id",
         "rawType": "string",
         "type": "string"
        }
       ],
       "ref": "7a2bab25-4c5a-44e0-9b05-4378cc7f4c6d",
       "rows": [
        [
         "34996",
         "116",
         "HR",
         "8651",
         "https://api.congress.gov/v3/bill/116/hr/8651?format=xml",
         "To acknowledge the crime of lynching, and for other purposes.",
         "H",
         "2020-10-23 00:00:00",
         "Rep. Amash, Justin [L-MI-3]",
         "L",
         "Crime and Law Enforcement",
         "False",
         "False",
         "False",
         "False",
         "116.HR.8651"
        ],
        [
         "35156",
         "116",
         "HR",
         "8549",
         "https://api.congress.gov/v3/bill/116/hr/8549?format=xml",
         "To prohibit the retention of incidentally acquired communications in the course of intelligence collection activities.",
         "H",
         "2020-10-09 00:00:00",
         "Rep. Amash, Justin [L-MI-3]",
         "L",
         "Armed Forces and National Security",
         "False",
         "False",
         "False",
         "False",
         "116.HR.8549"
        ]
       ],
       "shape": {
        "columns": 15,
        "rows": 2
       }
      },
      "text/html": [
       "<div>\n",
       "<style scoped>\n",
       "    .dataframe tbody tr th:only-of-type {\n",
       "        vertical-align: middle;\n",
       "    }\n",
       "\n",
       "    .dataframe tbody tr th {\n",
       "        vertical-align: top;\n",
       "    }\n",
       "\n",
       "    .dataframe thead th {\n",
       "        text-align: right;\n",
       "    }\n",
       "</style>\n",
       "<table border=\"1\" class=\"dataframe\">\n",
       "  <thead>\n",
       "    <tr style=\"text-align: right;\">\n",
       "      <th></th>\n",
       "      <th>congress</th>\n",
       "      <th>type</th>\n",
       "      <th>number</th>\n",
       "      <th>url</th>\n",
       "      <th>title</th>\n",
       "      <th>chamber</th>\n",
       "      <th>introduced</th>\n",
       "      <th>sponsor</th>\n",
       "      <th>sponsor_party</th>\n",
       "      <th>policy_area</th>\n",
       "      <th>passed_senate</th>\n",
       "      <th>passed_house</th>\n",
       "      <th>to_president</th>\n",
       "      <th>became_law</th>\n",
       "      <th>id</th>\n",
       "    </tr>\n",
       "  </thead>\n",
       "  <tbody>\n",
       "    <tr>\n",
       "      <th>34996</th>\n",
       "      <td>116</td>\n",
       "      <td>HR</td>\n",
       "      <td>8651</td>\n",
       "      <td>https://api.congress.gov/v3/bill/116/hr/8651?f...</td>\n",
       "      <td>To acknowledge the crime of lynching, and for ...</td>\n",
       "      <td>H</td>\n",
       "      <td>2020-10-23 00:00:00</td>\n",
       "      <td>Rep. Amash, Justin [L-MI-3]</td>\n",
       "      <td>L</td>\n",
       "      <td>Crime and Law Enforcement</td>\n",
       "      <td>False</td>\n",
       "      <td>False</td>\n",
       "      <td>False</td>\n",
       "      <td>False</td>\n",
       "      <td>116.HR.8651</td>\n",
       "    </tr>\n",
       "    <tr>\n",
       "      <th>35156</th>\n",
       "      <td>116</td>\n",
       "      <td>HR</td>\n",
       "      <td>8549</td>\n",
       "      <td>https://api.congress.gov/v3/bill/116/hr/8549?f...</td>\n",
       "      <td>To prohibit the retention of incidentally acqu...</td>\n",
       "      <td>H</td>\n",
       "      <td>2020-10-09 00:00:00</td>\n",
       "      <td>Rep. Amash, Justin [L-MI-3]</td>\n",
       "      <td>L</td>\n",
       "      <td>Armed Forces and National Security</td>\n",
       "      <td>False</td>\n",
       "      <td>False</td>\n",
       "      <td>False</td>\n",
       "      <td>False</td>\n",
       "      <td>116.HR.8549</td>\n",
       "    </tr>\n",
       "  </tbody>\n",
       "</table>\n",
       "</div>"
      ],
      "text/plain": [
       "       congress type  number  \\\n",
       "34996       116   HR    8651   \n",
       "35156       116   HR    8549   \n",
       "\n",
       "                                                     url  \\\n",
       "34996  https://api.congress.gov/v3/bill/116/hr/8651?f...   \n",
       "35156  https://api.congress.gov/v3/bill/116/hr/8549?f...   \n",
       "\n",
       "                                                   title chamber  \\\n",
       "34996  To acknowledge the crime of lynching, and for ...       H   \n",
       "35156  To prohibit the retention of incidentally acqu...       H   \n",
       "\n",
       "                introduced                      sponsor sponsor_party  \\\n",
       "34996  2020-10-23 00:00:00  Rep. Amash, Justin [L-MI-3]             L   \n",
       "35156  2020-10-09 00:00:00  Rep. Amash, Justin [L-MI-3]             L   \n",
       "\n",
       "                              policy_area  passed_senate  passed_house  \\\n",
       "34996           Crime and Law Enforcement          False         False   \n",
       "35156  Armed Forces and National Security          False         False   \n",
       "\n",
       "       to_president  became_law           id  \n",
       "34996         False       False  116.HR.8651  \n",
       "35156         False       False  116.HR.8549  "
      ]
     },
     "execution_count": 111,
     "metadata": {},
     "output_type": "execute_result"
    }
   ],
   "source": [
    "# Only 2 have been sponsored by Libertarian party (same represetative)\n",
    "# and neither passed any chamber. Might be worth excluding from consideration\n",
    "df[(df.sponsor_party == 'L')]"
   ]
  },
  {
   "cell_type": "code",
   "execution_count": 112,
   "id": "1a35a653",
   "metadata": {},
   "outputs": [
    {
     "name": "stdout",
     "output_type": "stream",
     "text": [
      "bill passage percentage:\n",
      "D : 0.020\n",
      "R : 0.029\n",
      "I : 0.009\n"
     ]
    }
   ],
   "source": [
    "# Independent sponsorship is less of an outlier, though less likely to pass\n",
    "dem_pass = len(df[(df.sponsor_party == 'D') & df.became_law]) / len(df[df.sponsor_party == 'D'])\n",
    "rep_pass = len(df[(df.sponsor_party == 'R') & df.became_law]) / len(df[df.sponsor_party == 'R'])\n",
    "ind_pass = len(df[(df.sponsor_party == 'I') & df.became_law]) / len(df[df.sponsor_party == 'I'])\n",
    "print(f'bill passage percentage:\\nD : {dem_pass:.3f}\\nR : {rep_pass:.3f}\\nI : {ind_pass:.3f}')"
   ]
  },
  {
   "cell_type": "code",
   "execution_count": 113,
   "id": "5910755e",
   "metadata": {},
   "outputs": [
    {
     "data": {
      "text/plain": [
       "Index(['congress', 'type', 'number', 'url', 'title', 'chamber', 'introduced',\n",
       "       'sponsor', 'sponsor_party', 'policy_area', 'passed_senate',\n",
       "       'passed_house', 'to_president', 'became_law', 'id'],\n",
       "      dtype='object')"
      ]
     },
     "execution_count": 113,
     "metadata": {},
     "output_type": "execute_result"
    }
   ],
   "source": [
    "df.columns"
   ]
  },
  {
   "cell_type": "code",
   "execution_count": 114,
   "id": "204eaf61",
   "metadata": {},
   "outputs": [],
   "source": [
    "# drop some columns which aren't relevant features\n",
    "df.drop(['url', 'title', 'sponsor'], axis=1, inplace=True)"
   ]
  },
  {
   "cell_type": "code",
   "execution_count": 115,
   "id": "c16d914f",
   "metadata": {},
   "outputs": [],
   "source": [
    "# rename a few columns for convenience: 'type' is already reserved in python\n",
    "df.rename(columns={'type':'bill_type', 'sponsor_party':'party', 'became_law':'law', 'introduced':'date'}, inplace=True)"
   ]
  },
  {
   "cell_type": "code",
   "execution_count": 118,
   "id": "b8abf308",
   "metadata": {},
   "outputs": [
    {
     "data": {
      "application/vnd.microsoft.datawrangler.viewer.v0+json": {
       "columns": [
        {
         "name": "index",
         "rawType": "int64",
         "type": "integer"
        },
        {
         "name": "date",
         "rawType": "object",
         "type": "string"
        }
       ],
       "ref": "40b899eb-402b-49a4-8e03-c245c643e6f8",
       "rows": [
        [
         "0",
         "2025-07-23"
        ],
        [
         "1",
         "2025-05-13"
        ],
        [
         "2",
         "2025-04-10"
        ],
        [
         "3",
         "2025-07-15"
        ],
        [
         "8",
         "2025-09-16"
        ],
        [
         "9",
         "2025-10-09"
        ],
        [
         "10",
         "2025-10-09"
        ],
        [
         "11",
         "2025-10-09"
        ],
        [
         "12",
         "2025-10-09"
        ],
        [
         "13",
         "2025-10-09"
        ],
        [
         "14",
         "2025-10-09"
        ],
        [
         "15",
         "2025-09-18"
        ],
        [
         "16",
         "2025-10-09"
        ],
        [
         "17",
         "2025-10-09"
        ],
        [
         "18",
         "2025-10-09"
        ],
        [
         "19",
         "2025-09-18"
        ],
        [
         "20",
         "2025-07-31"
        ],
        [
         "21",
         "2025-10-08"
        ],
        [
         "22",
         "2025-10-08"
        ],
        [
         "23",
         "2025-09-18"
        ],
        [
         "25",
         "2025-10-08"
        ],
        [
         "26",
         "2025-04-30"
        ],
        [
         "27",
         "2025-10-08"
        ],
        [
         "29",
         "2025-10-08"
        ],
        [
         "31",
         "2025-10-08"
        ],
        [
         "32",
         "2025-10-08"
        ],
        [
         "33",
         "2025-10-08"
        ],
        [
         "35",
         "2025-10-08"
        ],
        [
         "36",
         "2025-10-08"
        ],
        [
         "37",
         "2025-10-08"
        ],
        [
         "38",
         "2025-10-08"
        ],
        [
         "39",
         "2025-10-08"
        ],
        [
         "40",
         "2025-10-08"
        ],
        [
         "41",
         "2025-10-08"
        ],
        [
         "44",
         "2025-10-08"
        ],
        [
         "45",
         "2025-10-08"
        ],
        [
         "46",
         "2025-10-08"
        ],
        [
         "48",
         "2025-10-08"
        ],
        [
         "49",
         "2025-10-08"
        ],
        [
         "50",
         "2025-10-08"
        ],
        [
         "51",
         "2025-10-08"
        ],
        [
         "52",
         "2025-10-08"
        ],
        [
         "53",
         "2025-10-08"
        ],
        [
         "54",
         "2025-10-08"
        ],
        [
         "57",
         "2025-07-22"
        ],
        [
         "59",
         "2025-10-07"
        ],
        [
         "60",
         "2025-10-07"
        ],
        [
         "61",
         "2025-09-17"
        ],
        [
         "62",
         "2025-10-07"
        ],
        [
         "64",
         "2025-10-07"
        ]
       ],
       "shape": {
        "columns": 1,
        "rows": 60139
       }
      },
      "text/plain": [
       "0                 2025-07-23\n",
       "1                 2025-05-13\n",
       "2                 2025-04-10\n",
       "3                 2025-07-15\n",
       "8                 2025-09-16\n",
       "                ...         \n",
       "70245    2013-01-28 00:00:00\n",
       "70246    2013-01-28 00:00:00\n",
       "70247    2013-02-12 00:00:00\n",
       "70248    2013-01-22 00:00:00\n",
       "70249    2013-02-07 00:00:00\n",
       "Name: date, Length: 60139, dtype: object"
      ]
     },
     "execution_count": 118,
     "metadata": {},
     "output_type": "execute_result"
    }
   ],
   "source": [
    "df.date"
   ]
  },
  {
   "cell_type": "code",
   "execution_count": 119,
   "id": "14085c9c",
   "metadata": {},
   "outputs": [
    {
     "data": {
      "application/vnd.microsoft.datawrangler.viewer.v0+json": {
       "columns": [
        {
         "name": "index",
         "rawType": "int64",
         "type": "integer"
        },
        {
         "name": "date",
         "rawType": "datetime64[ns]",
         "type": "datetime"
        }
       ],
       "ref": "c4620165-d2c4-4a9d-a5ec-f8208ebafa2a",
       "rows": [
        [
         "0",
         "2025-07-23 00:00:00"
        ],
        [
         "1",
         "2025-05-13 00:00:00"
        ],
        [
         "2",
         "2025-04-10 00:00:00"
        ],
        [
         "3",
         "2025-07-15 00:00:00"
        ],
        [
         "8",
         "2025-09-16 00:00:00"
        ],
        [
         "9",
         "2025-10-09 00:00:00"
        ],
        [
         "10",
         "2025-10-09 00:00:00"
        ],
        [
         "11",
         "2025-10-09 00:00:00"
        ],
        [
         "12",
         "2025-10-09 00:00:00"
        ],
        [
         "13",
         "2025-10-09 00:00:00"
        ],
        [
         "14",
         "2025-10-09 00:00:00"
        ],
        [
         "15",
         "2025-09-18 00:00:00"
        ],
        [
         "16",
         "2025-10-09 00:00:00"
        ],
        [
         "17",
         "2025-10-09 00:00:00"
        ],
        [
         "18",
         "2025-10-09 00:00:00"
        ],
        [
         "19",
         "2025-09-18 00:00:00"
        ],
        [
         "20",
         "2025-07-31 00:00:00"
        ],
        [
         "21",
         "2025-10-08 00:00:00"
        ],
        [
         "22",
         "2025-10-08 00:00:00"
        ],
        [
         "23",
         "2025-09-18 00:00:00"
        ],
        [
         "25",
         "2025-10-08 00:00:00"
        ],
        [
         "26",
         "2025-04-30 00:00:00"
        ],
        [
         "27",
         "2025-10-08 00:00:00"
        ],
        [
         "29",
         "2025-10-08 00:00:00"
        ],
        [
         "31",
         "2025-10-08 00:00:00"
        ],
        [
         "32",
         "2025-10-08 00:00:00"
        ],
        [
         "33",
         "2025-10-08 00:00:00"
        ],
        [
         "35",
         "2025-10-08 00:00:00"
        ],
        [
         "36",
         "2025-10-08 00:00:00"
        ],
        [
         "37",
         "2025-10-08 00:00:00"
        ],
        [
         "38",
         "2025-10-08 00:00:00"
        ],
        [
         "39",
         "2025-10-08 00:00:00"
        ],
        [
         "40",
         "2025-10-08 00:00:00"
        ],
        [
         "41",
         "2025-10-08 00:00:00"
        ],
        [
         "44",
         "2025-10-08 00:00:00"
        ],
        [
         "45",
         "2025-10-08 00:00:00"
        ],
        [
         "46",
         "2025-10-08 00:00:00"
        ],
        [
         "48",
         "2025-10-08 00:00:00"
        ],
        [
         "49",
         "2025-10-08 00:00:00"
        ],
        [
         "50",
         "2025-10-08 00:00:00"
        ],
        [
         "51",
         "2025-10-08 00:00:00"
        ],
        [
         "52",
         "2025-10-08 00:00:00"
        ],
        [
         "53",
         "2025-10-08 00:00:00"
        ],
        [
         "54",
         "2025-10-08 00:00:00"
        ],
        [
         "57",
         "2025-07-22 00:00:00"
        ],
        [
         "59",
         "2025-10-07 00:00:00"
        ],
        [
         "60",
         "2025-10-07 00:00:00"
        ],
        [
         "61",
         "2025-09-17 00:00:00"
        ],
        [
         "62",
         "2025-10-07 00:00:00"
        ],
        [
         "64",
         "2025-10-07 00:00:00"
        ]
       ],
       "shape": {
        "columns": 1,
        "rows": 60139
       }
      },
      "text/plain": [
       "0       2025-07-23\n",
       "1       2025-05-13\n",
       "2       2025-04-10\n",
       "3       2025-07-15\n",
       "8       2025-09-16\n",
       "           ...    \n",
       "70245   2013-01-28\n",
       "70246   2013-01-28\n",
       "70247   2013-02-12\n",
       "70248   2013-01-22\n",
       "70249   2013-02-07\n",
       "Name: date, Length: 60139, dtype: datetime64[ns]"
      ]
     },
     "execution_count": 119,
     "metadata": {},
     "output_type": "execute_result"
    }
   ],
   "source": [
    "pd.to_datetime(df.date, format='mixed')"
   ]
  },
  {
   "cell_type": "code",
   "execution_count": 128,
   "id": "023287f4",
   "metadata": {},
   "outputs": [
    {
     "data": {
      "application/vnd.microsoft.datawrangler.viewer.v0+json": {
       "columns": [
        {
         "name": "index",
         "rawType": "int64",
         "type": "integer"
        },
        {
         "name": "congress",
         "rawType": "int64",
         "type": "integer"
        },
        {
         "name": "chamber",
         "rawType": "object",
         "type": "string"
        },
        {
         "name": "party_code",
         "rawType": "int64",
         "type": "integer"
        },
        {
         "name": "party_name",
         "rawType": "object",
         "type": "string"
        },
        {
         "name": "n_members",
         "rawType": "int64",
         "type": "integer"
        },
        {
         "name": "nominate_dim1_median",
         "rawType": "float64",
         "type": "float"
        },
        {
         "name": "nominate_dim2_median",
         "rawType": "float64",
         "type": "float"
        },
        {
         "name": "nominate_dim1_mean",
         "rawType": "float64",
         "type": "float"
        },
        {
         "name": "nominate_dim2_mean",
         "rawType": "float64",
         "type": "float"
        }
       ],
       "ref": "3e683651-4f35-4eaf-a2f1-22bd364f410d",
       "rows": [
        [
         "0",
         "1",
         "President",
         "5000",
         "Pro-Administration",
         "1",
         null,
         null,
         null,
         null
        ],
        [
         "1",
         "1",
         "House",
         "4000",
         "Anti-Administration",
         "29",
         "0.018",
         "0.092",
         "-0.0243793103448275",
         "0.1419310344827585"
        ],
        [
         "2",
         "1",
         "House",
         "5000",
         "Pro-Administration",
         "31",
         "0.576",
         "0.004",
         "0.5131612903225807",
         "-0.0094838709677419"
        ],
        [
         "3",
         "1",
         "Senate",
         "4000",
         "Anti-Administration",
         "9",
         "-0.2375",
         "-0.213",
         "-0.23975",
         "-0.04475"
        ],
        [
         "4",
         "1",
         "Senate",
         "5000",
         "Pro-Administration",
         "20",
         "0.427",
         "-0.3085",
         "0.3520499999999999",
         "-0.1662"
        ]
       ],
       "shape": {
        "columns": 9,
        "rows": 5
       }
      },
      "text/html": [
       "<div>\n",
       "<style scoped>\n",
       "    .dataframe tbody tr th:only-of-type {\n",
       "        vertical-align: middle;\n",
       "    }\n",
       "\n",
       "    .dataframe tbody tr th {\n",
       "        vertical-align: top;\n",
       "    }\n",
       "\n",
       "    .dataframe thead th {\n",
       "        text-align: right;\n",
       "    }\n",
       "</style>\n",
       "<table border=\"1\" class=\"dataframe\">\n",
       "  <thead>\n",
       "    <tr style=\"text-align: right;\">\n",
       "      <th></th>\n",
       "      <th>congress</th>\n",
       "      <th>chamber</th>\n",
       "      <th>party_code</th>\n",
       "      <th>party_name</th>\n",
       "      <th>n_members</th>\n",
       "      <th>nominate_dim1_median</th>\n",
       "      <th>nominate_dim2_median</th>\n",
       "      <th>nominate_dim1_mean</th>\n",
       "      <th>nominate_dim2_mean</th>\n",
       "    </tr>\n",
       "  </thead>\n",
       "  <tbody>\n",
       "    <tr>\n",
       "      <th>0</th>\n",
       "      <td>1</td>\n",
       "      <td>President</td>\n",
       "      <td>5000</td>\n",
       "      <td>Pro-Administration</td>\n",
       "      <td>1</td>\n",
       "      <td>NaN</td>\n",
       "      <td>NaN</td>\n",
       "      <td>NaN</td>\n",
       "      <td>NaN</td>\n",
       "    </tr>\n",
       "    <tr>\n",
       "      <th>1</th>\n",
       "      <td>1</td>\n",
       "      <td>House</td>\n",
       "      <td>4000</td>\n",
       "      <td>Anti-Administration</td>\n",
       "      <td>29</td>\n",
       "      <td>0.0180</td>\n",
       "      <td>0.0920</td>\n",
       "      <td>-0.024379</td>\n",
       "      <td>0.141931</td>\n",
       "    </tr>\n",
       "    <tr>\n",
       "      <th>2</th>\n",
       "      <td>1</td>\n",
       "      <td>House</td>\n",
       "      <td>5000</td>\n",
       "      <td>Pro-Administration</td>\n",
       "      <td>31</td>\n",
       "      <td>0.5760</td>\n",
       "      <td>0.0040</td>\n",
       "      <td>0.513161</td>\n",
       "      <td>-0.009484</td>\n",
       "    </tr>\n",
       "    <tr>\n",
       "      <th>3</th>\n",
       "      <td>1</td>\n",
       "      <td>Senate</td>\n",
       "      <td>4000</td>\n",
       "      <td>Anti-Administration</td>\n",
       "      <td>9</td>\n",
       "      <td>-0.2375</td>\n",
       "      <td>-0.2130</td>\n",
       "      <td>-0.239750</td>\n",
       "      <td>-0.044750</td>\n",
       "    </tr>\n",
       "    <tr>\n",
       "      <th>4</th>\n",
       "      <td>1</td>\n",
       "      <td>Senate</td>\n",
       "      <td>5000</td>\n",
       "      <td>Pro-Administration</td>\n",
       "      <td>20</td>\n",
       "      <td>0.4270</td>\n",
       "      <td>-0.3085</td>\n",
       "      <td>0.352050</td>\n",
       "      <td>-0.166200</td>\n",
       "    </tr>\n",
       "  </tbody>\n",
       "</table>\n",
       "</div>"
      ],
      "text/plain": [
       "   congress    chamber  party_code           party_name  n_members  \\\n",
       "0         1  President        5000   Pro-Administration          1   \n",
       "1         1      House        4000  Anti-Administration         29   \n",
       "2         1      House        5000   Pro-Administration         31   \n",
       "3         1     Senate        4000  Anti-Administration          9   \n",
       "4         1     Senate        5000   Pro-Administration         20   \n",
       "\n",
       "   nominate_dim1_median  nominate_dim2_median  nominate_dim1_mean  \\\n",
       "0                   NaN                   NaN                 NaN   \n",
       "1                0.0180                0.0920           -0.024379   \n",
       "2                0.5760                0.0040            0.513161   \n",
       "3               -0.2375               -0.2130           -0.239750   \n",
       "4                0.4270               -0.3085            0.352050   \n",
       "\n",
       "   nominate_dim2_mean  \n",
       "0                 NaN  \n",
       "1            0.141931  \n",
       "2           -0.009484  \n",
       "3           -0.044750  \n",
       "4           -0.166200  "
      ]
     },
     "execution_count": 128,
     "metadata": {},
     "output_type": "execute_result"
    }
   ],
   "source": [
    "# let's also add how many of each chamber belonged to which party for each congress\n",
    "party_df = pd.read_csv('../csv/HSall_parties.csv')\n",
    "party_df.head()"
   ]
  },
  {
   "cell_type": "code",
   "execution_count": 130,
   "id": "c491d476",
   "metadata": {},
   "outputs": [
    {
     "data": {
      "application/vnd.microsoft.datawrangler.viewer.v0+json": {
       "columns": [
        {
         "name": "index",
         "rawType": "int64",
         "type": "integer"
        },
        {
         "name": "congress",
         "rawType": "int64",
         "type": "integer"
        },
        {
         "name": "chamber",
         "rawType": "object",
         "type": "string"
        },
        {
         "name": "party_code",
         "rawType": "int64",
         "type": "integer"
        },
        {
         "name": "party_name",
         "rawType": "object",
         "type": "string"
        },
        {
         "name": "n_members",
         "rawType": "int64",
         "type": "integer"
        },
        {
         "name": "nominate_dim1_median",
         "rawType": "float64",
         "type": "float"
        },
        {
         "name": "nominate_dim2_median",
         "rawType": "float64",
         "type": "float"
        },
        {
         "name": "nominate_dim1_mean",
         "rawType": "float64",
         "type": "float"
        },
        {
         "name": "nominate_dim2_mean",
         "rawType": "float64",
         "type": "float"
        }
       ],
       "ref": "17a10bf2-d451-467d-93d4-5d758853121d",
       "rows": [
        [
         "803",
         "113",
         "President",
         "100",
         "Democrat",
         "1",
         "-0.358",
         "-0.197",
         "-0.358",
         "-0.197"
        ],
        [
         "804",
         "113",
         "House",
         "100",
         "Democrat",
         "204",
         "-0.394",
         "-0.078",
         "-0.3843823529411766",
         "-0.0695392156862744"
        ],
        [
         "805",
         "113",
         "House",
         "200",
         "Republican",
         "240",
         "0.49",
         "0.088",
         "0.4817583333333335",
         "0.0511708333333333"
        ],
        [
         "806",
         "113",
         "Senate",
         "100",
         "Democrat",
         "57",
         "-0.333",
         "-0.121",
         "-0.326421052631579",
         "-0.0799122807017543"
        ],
        [
         "807",
         "113",
         "Senate",
         "200",
         "Republican",
         "46",
         "0.425",
         "-0.0075",
         "0.4698260869565218",
         "-0.0370217391304347"
        ],
        [
         "808",
         "113",
         "Senate",
         "328",
         "Independent",
         "2",
         "-0.356",
         "-0.311",
         "-0.356",
         "-0.311"
        ],
        [
         "809",
         "114",
         "President",
         "100",
         "Democrat",
         "1",
         "-0.358",
         "-0.197",
         "-0.358",
         "-0.197"
        ],
        [
         "810",
         "114",
         "House",
         "100",
         "Democrat",
         "190",
         "-0.3965",
         "-0.078",
         "-0.394563157894737",
         "-0.076778947368421"
        ],
        [
         "811",
         "114",
         "House",
         "200",
         "Republican",
         "251",
         "0.49",
         "0.077",
         "0.4800000000000001",
         "0.0470239043824701"
        ],
        [
         "812",
         "114",
         "Senate",
         "100",
         "Democrat",
         "44",
         "-0.338",
         "-0.1495",
         "-0.3335909090909092",
         "-0.1283863636363636"
        ],
        [
         "813",
         "114",
         "Senate",
         "200",
         "Republican",
         "54",
         "0.445",
         "-0.031",
         "0.4765555555555554",
         "-0.0459629629629629"
        ],
        [
         "814",
         "114",
         "Senate",
         "328",
         "Independent",
         "2",
         "-0.356",
         "-0.311",
         "-0.356",
         "-0.311"
        ],
        [
         "815",
         "115",
         "President",
         "200",
         "Republican",
         "1",
         "0.403",
         "0.162",
         "0.403",
         "0.162"
        ],
        [
         "816",
         "115",
         "House",
         "100",
         "Democrat",
         "200",
         "-0.3935",
         "-0.0655",
         "-0.388685",
         "-0.0550849999999999"
        ],
        [
         "817",
         "115",
         "House",
         "200",
         "Republican",
         "250",
         "0.497",
         "0.0805",
         "0.489024",
         "0.043968"
        ],
        [
         "818",
         "115",
         "Senate",
         "100",
         "Democrat",
         "48",
         "-0.3435",
         "-0.1265",
         "-0.3355416666666667",
         "-0.1079583333333333"
        ],
        [
         "819",
         "115",
         "Senate",
         "200",
         "Republican",
         "55",
         "0.461",
         "-0.026",
         "0.4872363636363635",
         "-0.025490909090909"
        ],
        [
         "820",
         "115",
         "Senate",
         "328",
         "Independent",
         "2",
         "-0.356",
         "-0.311",
         "-0.356",
         "-0.311"
        ],
        [
         "821",
         "116",
         "President",
         "200",
         "Republican",
         "1",
         "0.403",
         "0.162",
         "0.403",
         "0.162"
        ],
        [
         "822",
         "116",
         "House",
         "100",
         "Democrat",
         "241",
         "-0.381",
         "-0.019",
         "-0.3718666666666667",
         "-0.0004374999999999"
        ],
        [
         "823",
         "116",
         "House",
         "200",
         "Republican",
         "208",
         "0.505",
         "0.1145",
         "0.5002980769230769",
         "0.058375"
        ],
        [
         "824",
         "116",
         "House",
         "328",
         "Independent",
         "2",
         "0.359",
         "-0.933",
         "0.359",
         "-0.933"
        ],
        [
         "825",
         "116",
         "Senate",
         "100",
         "Democrat",
         "46",
         "-0.3435",
         "-0.1265",
         "-0.343",
         "-0.1201739130434782"
        ],
        [
         "826",
         "116",
         "Senate",
         "200",
         "Republican",
         "54",
         "0.462",
         "-0.017",
         "0.4989444444444442",
         "0.0264814814814814"
        ],
        [
         "827",
         "116",
         "Senate",
         "328",
         "Independent",
         "2",
         "-0.356",
         "-0.311",
         "-0.356",
         "-0.311"
        ],
        [
         "828",
         "117",
         "President",
         "100",
         "Democrat",
         "1",
         "-0.32",
         "0.283",
         "-0.32",
         "0.283"
        ],
        [
         "829",
         "117",
         "President",
         "200",
         "Republican",
         "1",
         "0.403",
         "0.162",
         "0.403",
         "0.162"
        ],
        [
         "830",
         "117",
         "House",
         "100",
         "Democrat",
         "232",
         "-0.383",
         "-0.0325",
         "-0.3793491379310345",
         "-0.0311120689655172"
        ],
        [
         "831",
         "117",
         "House",
         "200",
         "Republican",
         "223",
         "0.499",
         "0.12",
         "0.5025650224215246",
         "0.0645874439461883"
        ],
        [
         "832",
         "117",
         "Senate",
         "100",
         "Democrat",
         "49",
         "-0.344",
         "-0.126",
         "-0.3509387755102041",
         "-0.1073061224489795"
        ],
        [
         "833",
         "117",
         "Senate",
         "200",
         "Republican",
         "51",
         "0.505",
         "-0.023",
         "0.5258039215686272",
         "0.0187058823529411"
        ],
        [
         "834",
         "117",
         "Senate",
         "328",
         "Independent",
         "2",
         "-0.356",
         "-0.311",
         "-0.356",
         "-0.311"
        ],
        [
         "835",
         "118",
         "House",
         "100",
         "Democrat",
         "221",
         "-0.389",
         "-0.042",
         "-0.3847375565610857",
         "-0.0395972850678732"
        ],
        [
         "836",
         "118",
         "House",
         "200",
         "Republican",
         "230",
         "0.4995",
         "0.1145",
         "0.5081869565217391",
         "0.0572173913043478"
        ],
        [
         "837",
         "118",
         "Senate",
         "100",
         "Democrat",
         "52",
         "-0.3485",
         "-0.1265",
         "-0.3492115384615385",
         "-0.1089038461538461"
        ],
        [
         "838",
         "118",
         "Senate",
         "200",
         "Republican",
         "49",
         "0.538",
         "0.022",
         "0.545265306122449",
         "0.0423673469387755"
        ],
        [
         "839",
         "118",
         "Senate",
         "328",
         "Independent",
         "4",
         "-0.177",
         "-0.311",
         "-0.2395",
         "-0.26"
        ],
        [
         "840",
         "119",
         "House",
         "100",
         "Democrat",
         "219",
         "-0.396",
         "-0.024",
         "-0.3882739726027396",
         "-0.0207488584474885"
        ],
        [
         "841",
         "119",
         "House",
         "200",
         "Republican",
         "224",
         "0.526",
         "0.109",
         "0.5291919642857142",
         "0.0614866071428571"
        ],
        [
         "842",
         "119",
         "Senate",
         "100",
         "Democrat",
         "45",
         "-0.355",
         "-0.127",
         "-0.3647777777777778",
         "-0.0960222222222222"
        ],
        [
         "843",
         "119",
         "Senate",
         "200",
         "Republican",
         "55",
         "0.561",
         "0.084",
         "0.559472727272727",
         "0.0734727272727272"
        ],
        [
         "844",
         "119",
         "Senate",
         "328",
         "Independent",
         "2",
         "-0.356",
         "-0.311",
         "-0.356",
         "-0.311"
        ]
       ],
       "shape": {
        "columns": 9,
        "rows": 42
       }
      },
      "text/html": [
       "<div>\n",
       "<style scoped>\n",
       "    .dataframe tbody tr th:only-of-type {\n",
       "        vertical-align: middle;\n",
       "    }\n",
       "\n",
       "    .dataframe tbody tr th {\n",
       "        vertical-align: top;\n",
       "    }\n",
       "\n",
       "    .dataframe thead th {\n",
       "        text-align: right;\n",
       "    }\n",
       "</style>\n",
       "<table border=\"1\" class=\"dataframe\">\n",
       "  <thead>\n",
       "    <tr style=\"text-align: right;\">\n",
       "      <th></th>\n",
       "      <th>congress</th>\n",
       "      <th>chamber</th>\n",
       "      <th>party_code</th>\n",
       "      <th>party_name</th>\n",
       "      <th>n_members</th>\n",
       "      <th>nominate_dim1_median</th>\n",
       "      <th>nominate_dim2_median</th>\n",
       "      <th>nominate_dim1_mean</th>\n",
       "      <th>nominate_dim2_mean</th>\n",
       "    </tr>\n",
       "  </thead>\n",
       "  <tbody>\n",
       "    <tr>\n",
       "      <th>803</th>\n",
       "      <td>113</td>\n",
       "      <td>President</td>\n",
       "      <td>100</td>\n",
       "      <td>Democrat</td>\n",
       "      <td>1</td>\n",
       "      <td>-0.3580</td>\n",
       "      <td>-0.1970</td>\n",
       "      <td>-0.358000</td>\n",
       "      <td>-0.197000</td>\n",
       "    </tr>\n",
       "    <tr>\n",
       "      <th>804</th>\n",
       "      <td>113</td>\n",
       "      <td>House</td>\n",
       "      <td>100</td>\n",
       "      <td>Democrat</td>\n",
       "      <td>204</td>\n",
       "      <td>-0.3940</td>\n",
       "      <td>-0.0780</td>\n",
       "      <td>-0.384382</td>\n",
       "      <td>-0.069539</td>\n",
       "    </tr>\n",
       "    <tr>\n",
       "      <th>805</th>\n",
       "      <td>113</td>\n",
       "      <td>House</td>\n",
       "      <td>200</td>\n",
       "      <td>Republican</td>\n",
       "      <td>240</td>\n",
       "      <td>0.4900</td>\n",
       "      <td>0.0880</td>\n",
       "      <td>0.481758</td>\n",
       "      <td>0.051171</td>\n",
       "    </tr>\n",
       "    <tr>\n",
       "      <th>806</th>\n",
       "      <td>113</td>\n",
       "      <td>Senate</td>\n",
       "      <td>100</td>\n",
       "      <td>Democrat</td>\n",
       "      <td>57</td>\n",
       "      <td>-0.3330</td>\n",
       "      <td>-0.1210</td>\n",
       "      <td>-0.326421</td>\n",
       "      <td>-0.079912</td>\n",
       "    </tr>\n",
       "    <tr>\n",
       "      <th>807</th>\n",
       "      <td>113</td>\n",
       "      <td>Senate</td>\n",
       "      <td>200</td>\n",
       "      <td>Republican</td>\n",
       "      <td>46</td>\n",
       "      <td>0.4250</td>\n",
       "      <td>-0.0075</td>\n",
       "      <td>0.469826</td>\n",
       "      <td>-0.037022</td>\n",
       "    </tr>\n",
       "    <tr>\n",
       "      <th>808</th>\n",
       "      <td>113</td>\n",
       "      <td>Senate</td>\n",
       "      <td>328</td>\n",
       "      <td>Independent</td>\n",
       "      <td>2</td>\n",
       "      <td>-0.3560</td>\n",
       "      <td>-0.3110</td>\n",
       "      <td>-0.356000</td>\n",
       "      <td>-0.311000</td>\n",
       "    </tr>\n",
       "    <tr>\n",
       "      <th>809</th>\n",
       "      <td>114</td>\n",
       "      <td>President</td>\n",
       "      <td>100</td>\n",
       "      <td>Democrat</td>\n",
       "      <td>1</td>\n",
       "      <td>-0.3580</td>\n",
       "      <td>-0.1970</td>\n",
       "      <td>-0.358000</td>\n",
       "      <td>-0.197000</td>\n",
       "    </tr>\n",
       "    <tr>\n",
       "      <th>810</th>\n",
       "      <td>114</td>\n",
       "      <td>House</td>\n",
       "      <td>100</td>\n",
       "      <td>Democrat</td>\n",
       "      <td>190</td>\n",
       "      <td>-0.3965</td>\n",
       "      <td>-0.0780</td>\n",
       "      <td>-0.394563</td>\n",
       "      <td>-0.076779</td>\n",
       "    </tr>\n",
       "    <tr>\n",
       "      <th>811</th>\n",
       "      <td>114</td>\n",
       "      <td>House</td>\n",
       "      <td>200</td>\n",
       "      <td>Republican</td>\n",
       "      <td>251</td>\n",
       "      <td>0.4900</td>\n",
       "      <td>0.0770</td>\n",
       "      <td>0.480000</td>\n",
       "      <td>0.047024</td>\n",
       "    </tr>\n",
       "    <tr>\n",
       "      <th>812</th>\n",
       "      <td>114</td>\n",
       "      <td>Senate</td>\n",
       "      <td>100</td>\n",
       "      <td>Democrat</td>\n",
       "      <td>44</td>\n",
       "      <td>-0.3380</td>\n",
       "      <td>-0.1495</td>\n",
       "      <td>-0.333591</td>\n",
       "      <td>-0.128386</td>\n",
       "    </tr>\n",
       "    <tr>\n",
       "      <th>813</th>\n",
       "      <td>114</td>\n",
       "      <td>Senate</td>\n",
       "      <td>200</td>\n",
       "      <td>Republican</td>\n",
       "      <td>54</td>\n",
       "      <td>0.4450</td>\n",
       "      <td>-0.0310</td>\n",
       "      <td>0.476556</td>\n",
       "      <td>-0.045963</td>\n",
       "    </tr>\n",
       "    <tr>\n",
       "      <th>814</th>\n",
       "      <td>114</td>\n",
       "      <td>Senate</td>\n",
       "      <td>328</td>\n",
       "      <td>Independent</td>\n",
       "      <td>2</td>\n",
       "      <td>-0.3560</td>\n",
       "      <td>-0.3110</td>\n",
       "      <td>-0.356000</td>\n",
       "      <td>-0.311000</td>\n",
       "    </tr>\n",
       "    <tr>\n",
       "      <th>815</th>\n",
       "      <td>115</td>\n",
       "      <td>President</td>\n",
       "      <td>200</td>\n",
       "      <td>Republican</td>\n",
       "      <td>1</td>\n",
       "      <td>0.4030</td>\n",
       "      <td>0.1620</td>\n",
       "      <td>0.403000</td>\n",
       "      <td>0.162000</td>\n",
       "    </tr>\n",
       "    <tr>\n",
       "      <th>816</th>\n",
       "      <td>115</td>\n",
       "      <td>House</td>\n",
       "      <td>100</td>\n",
       "      <td>Democrat</td>\n",
       "      <td>200</td>\n",
       "      <td>-0.3935</td>\n",
       "      <td>-0.0655</td>\n",
       "      <td>-0.388685</td>\n",
       "      <td>-0.055085</td>\n",
       "    </tr>\n",
       "    <tr>\n",
       "      <th>817</th>\n",
       "      <td>115</td>\n",
       "      <td>House</td>\n",
       "      <td>200</td>\n",
       "      <td>Republican</td>\n",
       "      <td>250</td>\n",
       "      <td>0.4970</td>\n",
       "      <td>0.0805</td>\n",
       "      <td>0.489024</td>\n",
       "      <td>0.043968</td>\n",
       "    </tr>\n",
       "    <tr>\n",
       "      <th>818</th>\n",
       "      <td>115</td>\n",
       "      <td>Senate</td>\n",
       "      <td>100</td>\n",
       "      <td>Democrat</td>\n",
       "      <td>48</td>\n",
       "      <td>-0.3435</td>\n",
       "      <td>-0.1265</td>\n",
       "      <td>-0.335542</td>\n",
       "      <td>-0.107958</td>\n",
       "    </tr>\n",
       "    <tr>\n",
       "      <th>819</th>\n",
       "      <td>115</td>\n",
       "      <td>Senate</td>\n",
       "      <td>200</td>\n",
       "      <td>Republican</td>\n",
       "      <td>55</td>\n",
       "      <td>0.4610</td>\n",
       "      <td>-0.0260</td>\n",
       "      <td>0.487236</td>\n",
       "      <td>-0.025491</td>\n",
       "    </tr>\n",
       "    <tr>\n",
       "      <th>820</th>\n",
       "      <td>115</td>\n",
       "      <td>Senate</td>\n",
       "      <td>328</td>\n",
       "      <td>Independent</td>\n",
       "      <td>2</td>\n",
       "      <td>-0.3560</td>\n",
       "      <td>-0.3110</td>\n",
       "      <td>-0.356000</td>\n",
       "      <td>-0.311000</td>\n",
       "    </tr>\n",
       "    <tr>\n",
       "      <th>821</th>\n",
       "      <td>116</td>\n",
       "      <td>President</td>\n",
       "      <td>200</td>\n",
       "      <td>Republican</td>\n",
       "      <td>1</td>\n",
       "      <td>0.4030</td>\n",
       "      <td>0.1620</td>\n",
       "      <td>0.403000</td>\n",
       "      <td>0.162000</td>\n",
       "    </tr>\n",
       "    <tr>\n",
       "      <th>822</th>\n",
       "      <td>116</td>\n",
       "      <td>House</td>\n",
       "      <td>100</td>\n",
       "      <td>Democrat</td>\n",
       "      <td>241</td>\n",
       "      <td>-0.3810</td>\n",
       "      <td>-0.0190</td>\n",
       "      <td>-0.371867</td>\n",
       "      <td>-0.000437</td>\n",
       "    </tr>\n",
       "    <tr>\n",
       "      <th>823</th>\n",
       "      <td>116</td>\n",
       "      <td>House</td>\n",
       "      <td>200</td>\n",
       "      <td>Republican</td>\n",
       "      <td>208</td>\n",
       "      <td>0.5050</td>\n",
       "      <td>0.1145</td>\n",
       "      <td>0.500298</td>\n",
       "      <td>0.058375</td>\n",
       "    </tr>\n",
       "    <tr>\n",
       "      <th>824</th>\n",
       "      <td>116</td>\n",
       "      <td>House</td>\n",
       "      <td>328</td>\n",
       "      <td>Independent</td>\n",
       "      <td>2</td>\n",
       "      <td>0.3590</td>\n",
       "      <td>-0.9330</td>\n",
       "      <td>0.359000</td>\n",
       "      <td>-0.933000</td>\n",
       "    </tr>\n",
       "    <tr>\n",
       "      <th>825</th>\n",
       "      <td>116</td>\n",
       "      <td>Senate</td>\n",
       "      <td>100</td>\n",
       "      <td>Democrat</td>\n",
       "      <td>46</td>\n",
       "      <td>-0.3435</td>\n",
       "      <td>-0.1265</td>\n",
       "      <td>-0.343000</td>\n",
       "      <td>-0.120174</td>\n",
       "    </tr>\n",
       "    <tr>\n",
       "      <th>826</th>\n",
       "      <td>116</td>\n",
       "      <td>Senate</td>\n",
       "      <td>200</td>\n",
       "      <td>Republican</td>\n",
       "      <td>54</td>\n",
       "      <td>0.4620</td>\n",
       "      <td>-0.0170</td>\n",
       "      <td>0.498944</td>\n",
       "      <td>0.026481</td>\n",
       "    </tr>\n",
       "    <tr>\n",
       "      <th>827</th>\n",
       "      <td>116</td>\n",
       "      <td>Senate</td>\n",
       "      <td>328</td>\n",
       "      <td>Independent</td>\n",
       "      <td>2</td>\n",
       "      <td>-0.3560</td>\n",
       "      <td>-0.3110</td>\n",
       "      <td>-0.356000</td>\n",
       "      <td>-0.311000</td>\n",
       "    </tr>\n",
       "    <tr>\n",
       "      <th>828</th>\n",
       "      <td>117</td>\n",
       "      <td>President</td>\n",
       "      <td>100</td>\n",
       "      <td>Democrat</td>\n",
       "      <td>1</td>\n",
       "      <td>-0.3200</td>\n",
       "      <td>0.2830</td>\n",
       "      <td>-0.320000</td>\n",
       "      <td>0.283000</td>\n",
       "    </tr>\n",
       "    <tr>\n",
       "      <th>829</th>\n",
       "      <td>117</td>\n",
       "      <td>President</td>\n",
       "      <td>200</td>\n",
       "      <td>Republican</td>\n",
       "      <td>1</td>\n",
       "      <td>0.4030</td>\n",
       "      <td>0.1620</td>\n",
       "      <td>0.403000</td>\n",
       "      <td>0.162000</td>\n",
       "    </tr>\n",
       "    <tr>\n",
       "      <th>830</th>\n",
       "      <td>117</td>\n",
       "      <td>House</td>\n",
       "      <td>100</td>\n",
       "      <td>Democrat</td>\n",
       "      <td>232</td>\n",
       "      <td>-0.3830</td>\n",
       "      <td>-0.0325</td>\n",
       "      <td>-0.379349</td>\n",
       "      <td>-0.031112</td>\n",
       "    </tr>\n",
       "    <tr>\n",
       "      <th>831</th>\n",
       "      <td>117</td>\n",
       "      <td>House</td>\n",
       "      <td>200</td>\n",
       "      <td>Republican</td>\n",
       "      <td>223</td>\n",
       "      <td>0.4990</td>\n",
       "      <td>0.1200</td>\n",
       "      <td>0.502565</td>\n",
       "      <td>0.064587</td>\n",
       "    </tr>\n",
       "    <tr>\n",
       "      <th>832</th>\n",
       "      <td>117</td>\n",
       "      <td>Senate</td>\n",
       "      <td>100</td>\n",
       "      <td>Democrat</td>\n",
       "      <td>49</td>\n",
       "      <td>-0.3440</td>\n",
       "      <td>-0.1260</td>\n",
       "      <td>-0.350939</td>\n",
       "      <td>-0.107306</td>\n",
       "    </tr>\n",
       "    <tr>\n",
       "      <th>833</th>\n",
       "      <td>117</td>\n",
       "      <td>Senate</td>\n",
       "      <td>200</td>\n",
       "      <td>Republican</td>\n",
       "      <td>51</td>\n",
       "      <td>0.5050</td>\n",
       "      <td>-0.0230</td>\n",
       "      <td>0.525804</td>\n",
       "      <td>0.018706</td>\n",
       "    </tr>\n",
       "    <tr>\n",
       "      <th>834</th>\n",
       "      <td>117</td>\n",
       "      <td>Senate</td>\n",
       "      <td>328</td>\n",
       "      <td>Independent</td>\n",
       "      <td>2</td>\n",
       "      <td>-0.3560</td>\n",
       "      <td>-0.3110</td>\n",
       "      <td>-0.356000</td>\n",
       "      <td>-0.311000</td>\n",
       "    </tr>\n",
       "    <tr>\n",
       "      <th>835</th>\n",
       "      <td>118</td>\n",
       "      <td>House</td>\n",
       "      <td>100</td>\n",
       "      <td>Democrat</td>\n",
       "      <td>221</td>\n",
       "      <td>-0.3890</td>\n",
       "      <td>-0.0420</td>\n",
       "      <td>-0.384738</td>\n",
       "      <td>-0.039597</td>\n",
       "    </tr>\n",
       "    <tr>\n",
       "      <th>836</th>\n",
       "      <td>118</td>\n",
       "      <td>House</td>\n",
       "      <td>200</td>\n",
       "      <td>Republican</td>\n",
       "      <td>230</td>\n",
       "      <td>0.4995</td>\n",
       "      <td>0.1145</td>\n",
       "      <td>0.508187</td>\n",
       "      <td>0.057217</td>\n",
       "    </tr>\n",
       "    <tr>\n",
       "      <th>837</th>\n",
       "      <td>118</td>\n",
       "      <td>Senate</td>\n",
       "      <td>100</td>\n",
       "      <td>Democrat</td>\n",
       "      <td>52</td>\n",
       "      <td>-0.3485</td>\n",
       "      <td>-0.1265</td>\n",
       "      <td>-0.349212</td>\n",
       "      <td>-0.108904</td>\n",
       "    </tr>\n",
       "    <tr>\n",
       "      <th>838</th>\n",
       "      <td>118</td>\n",
       "      <td>Senate</td>\n",
       "      <td>200</td>\n",
       "      <td>Republican</td>\n",
       "      <td>49</td>\n",
       "      <td>0.5380</td>\n",
       "      <td>0.0220</td>\n",
       "      <td>0.545265</td>\n",
       "      <td>0.042367</td>\n",
       "    </tr>\n",
       "    <tr>\n",
       "      <th>839</th>\n",
       "      <td>118</td>\n",
       "      <td>Senate</td>\n",
       "      <td>328</td>\n",
       "      <td>Independent</td>\n",
       "      <td>4</td>\n",
       "      <td>-0.1770</td>\n",
       "      <td>-0.3110</td>\n",
       "      <td>-0.239500</td>\n",
       "      <td>-0.260000</td>\n",
       "    </tr>\n",
       "    <tr>\n",
       "      <th>840</th>\n",
       "      <td>119</td>\n",
       "      <td>House</td>\n",
       "      <td>100</td>\n",
       "      <td>Democrat</td>\n",
       "      <td>219</td>\n",
       "      <td>-0.3960</td>\n",
       "      <td>-0.0240</td>\n",
       "      <td>-0.388274</td>\n",
       "      <td>-0.020749</td>\n",
       "    </tr>\n",
       "    <tr>\n",
       "      <th>841</th>\n",
       "      <td>119</td>\n",
       "      <td>House</td>\n",
       "      <td>200</td>\n",
       "      <td>Republican</td>\n",
       "      <td>224</td>\n",
       "      <td>0.5260</td>\n",
       "      <td>0.1090</td>\n",
       "      <td>0.529192</td>\n",
       "      <td>0.061487</td>\n",
       "    </tr>\n",
       "    <tr>\n",
       "      <th>842</th>\n",
       "      <td>119</td>\n",
       "      <td>Senate</td>\n",
       "      <td>100</td>\n",
       "      <td>Democrat</td>\n",
       "      <td>45</td>\n",
       "      <td>-0.3550</td>\n",
       "      <td>-0.1270</td>\n",
       "      <td>-0.364778</td>\n",
       "      <td>-0.096022</td>\n",
       "    </tr>\n",
       "    <tr>\n",
       "      <th>843</th>\n",
       "      <td>119</td>\n",
       "      <td>Senate</td>\n",
       "      <td>200</td>\n",
       "      <td>Republican</td>\n",
       "      <td>55</td>\n",
       "      <td>0.5610</td>\n",
       "      <td>0.0840</td>\n",
       "      <td>0.559473</td>\n",
       "      <td>0.073473</td>\n",
       "    </tr>\n",
       "    <tr>\n",
       "      <th>844</th>\n",
       "      <td>119</td>\n",
       "      <td>Senate</td>\n",
       "      <td>328</td>\n",
       "      <td>Independent</td>\n",
       "      <td>2</td>\n",
       "      <td>-0.3560</td>\n",
       "      <td>-0.3110</td>\n",
       "      <td>-0.356000</td>\n",
       "      <td>-0.311000</td>\n",
       "    </tr>\n",
       "  </tbody>\n",
       "</table>\n",
       "</div>"
      ],
      "text/plain": [
       "     congress    chamber  party_code   party_name  n_members  \\\n",
       "803       113  President         100     Democrat          1   \n",
       "804       113      House         100     Democrat        204   \n",
       "805       113      House         200   Republican        240   \n",
       "806       113     Senate         100     Democrat         57   \n",
       "807       113     Senate         200   Republican         46   \n",
       "808       113     Senate         328  Independent          2   \n",
       "809       114  President         100     Democrat          1   \n",
       "810       114      House         100     Democrat        190   \n",
       "811       114      House         200   Republican        251   \n",
       "812       114     Senate         100     Democrat         44   \n",
       "813       114     Senate         200   Republican         54   \n",
       "814       114     Senate         328  Independent          2   \n",
       "815       115  President         200   Republican          1   \n",
       "816       115      House         100     Democrat        200   \n",
       "817       115      House         200   Republican        250   \n",
       "818       115     Senate         100     Democrat         48   \n",
       "819       115     Senate         200   Republican         55   \n",
       "820       115     Senate         328  Independent          2   \n",
       "821       116  President         200   Republican          1   \n",
       "822       116      House         100     Democrat        241   \n",
       "823       116      House         200   Republican        208   \n",
       "824       116      House         328  Independent          2   \n",
       "825       116     Senate         100     Democrat         46   \n",
       "826       116     Senate         200   Republican         54   \n",
       "827       116     Senate         328  Independent          2   \n",
       "828       117  President         100     Democrat          1   \n",
       "829       117  President         200   Republican          1   \n",
       "830       117      House         100     Democrat        232   \n",
       "831       117      House         200   Republican        223   \n",
       "832       117     Senate         100     Democrat         49   \n",
       "833       117     Senate         200   Republican         51   \n",
       "834       117     Senate         328  Independent          2   \n",
       "835       118      House         100     Democrat        221   \n",
       "836       118      House         200   Republican        230   \n",
       "837       118     Senate         100     Democrat         52   \n",
       "838       118     Senate         200   Republican         49   \n",
       "839       118     Senate         328  Independent          4   \n",
       "840       119      House         100     Democrat        219   \n",
       "841       119      House         200   Republican        224   \n",
       "842       119     Senate         100     Democrat         45   \n",
       "843       119     Senate         200   Republican         55   \n",
       "844       119     Senate         328  Independent          2   \n",
       "\n",
       "     nominate_dim1_median  nominate_dim2_median  nominate_dim1_mean  \\\n",
       "803               -0.3580               -0.1970           -0.358000   \n",
       "804               -0.3940               -0.0780           -0.384382   \n",
       "805                0.4900                0.0880            0.481758   \n",
       "806               -0.3330               -0.1210           -0.326421   \n",
       "807                0.4250               -0.0075            0.469826   \n",
       "808               -0.3560               -0.3110           -0.356000   \n",
       "809               -0.3580               -0.1970           -0.358000   \n",
       "810               -0.3965               -0.0780           -0.394563   \n",
       "811                0.4900                0.0770            0.480000   \n",
       "812               -0.3380               -0.1495           -0.333591   \n",
       "813                0.4450               -0.0310            0.476556   \n",
       "814               -0.3560               -0.3110           -0.356000   \n",
       "815                0.4030                0.1620            0.403000   \n",
       "816               -0.3935               -0.0655           -0.388685   \n",
       "817                0.4970                0.0805            0.489024   \n",
       "818               -0.3435               -0.1265           -0.335542   \n",
       "819                0.4610               -0.0260            0.487236   \n",
       "820               -0.3560               -0.3110           -0.356000   \n",
       "821                0.4030                0.1620            0.403000   \n",
       "822               -0.3810               -0.0190           -0.371867   \n",
       "823                0.5050                0.1145            0.500298   \n",
       "824                0.3590               -0.9330            0.359000   \n",
       "825               -0.3435               -0.1265           -0.343000   \n",
       "826                0.4620               -0.0170            0.498944   \n",
       "827               -0.3560               -0.3110           -0.356000   \n",
       "828               -0.3200                0.2830           -0.320000   \n",
       "829                0.4030                0.1620            0.403000   \n",
       "830               -0.3830               -0.0325           -0.379349   \n",
       "831                0.4990                0.1200            0.502565   \n",
       "832               -0.3440               -0.1260           -0.350939   \n",
       "833                0.5050               -0.0230            0.525804   \n",
       "834               -0.3560               -0.3110           -0.356000   \n",
       "835               -0.3890               -0.0420           -0.384738   \n",
       "836                0.4995                0.1145            0.508187   \n",
       "837               -0.3485               -0.1265           -0.349212   \n",
       "838                0.5380                0.0220            0.545265   \n",
       "839               -0.1770               -0.3110           -0.239500   \n",
       "840               -0.3960               -0.0240           -0.388274   \n",
       "841                0.5260                0.1090            0.529192   \n",
       "842               -0.3550               -0.1270           -0.364778   \n",
       "843                0.5610                0.0840            0.559473   \n",
       "844               -0.3560               -0.3110           -0.356000   \n",
       "\n",
       "     nominate_dim2_mean  \n",
       "803           -0.197000  \n",
       "804           -0.069539  \n",
       "805            0.051171  \n",
       "806           -0.079912  \n",
       "807           -0.037022  \n",
       "808           -0.311000  \n",
       "809           -0.197000  \n",
       "810           -0.076779  \n",
       "811            0.047024  \n",
       "812           -0.128386  \n",
       "813           -0.045963  \n",
       "814           -0.311000  \n",
       "815            0.162000  \n",
       "816           -0.055085  \n",
       "817            0.043968  \n",
       "818           -0.107958  \n",
       "819           -0.025491  \n",
       "820           -0.311000  \n",
       "821            0.162000  \n",
       "822           -0.000437  \n",
       "823            0.058375  \n",
       "824           -0.933000  \n",
       "825           -0.120174  \n",
       "826            0.026481  \n",
       "827           -0.311000  \n",
       "828            0.283000  \n",
       "829            0.162000  \n",
       "830           -0.031112  \n",
       "831            0.064587  \n",
       "832           -0.107306  \n",
       "833            0.018706  \n",
       "834           -0.311000  \n",
       "835           -0.039597  \n",
       "836            0.057217  \n",
       "837           -0.108904  \n",
       "838            0.042367  \n",
       "839           -0.260000  \n",
       "840           -0.020749  \n",
       "841            0.061487  \n",
       "842           -0.096022  \n",
       "843            0.073473  \n",
       "844           -0.311000  "
      ]
     },
     "execution_count": 130,
     "metadata": {},
     "output_type": "execute_result"
    }
   ],
   "source": [
    "party_df = party_df[party_df.congress.isin(df.congress.unique())]\n",
    "party_df"
   ]
  },
  {
   "cell_type": "code",
   "execution_count": null,
   "id": "58321cec",
   "metadata": {},
   "outputs": [],
   "source": []
  },
  {
   "cell_type": "code",
   "execution_count": 127,
   "id": "ee1a59a0",
   "metadata": {},
   "outputs": [
    {
     "data": {
      "text/plain": [
       "<Axes: xlabel='date', ylabel='policy_area'>"
      ]
     },
     "execution_count": 127,
     "metadata": {},
     "output_type": "execute_result"
    },
    {
     "data": {
      "image/png": "[encoded data removed]",
      "text/plain": [
       "<Figure size 640x480 with 1 Axes>"
      ]
     },
     "metadata": {},
     "output_type": "display_data"
    }
   ],
   "source": [
    "import seaborn as sns\n",
    "sns.scatterplot(df[df.law], x='date', y='policy_area', hue='party', alpha=0.3)"
   ]
  },
  {
   "cell_type": "code",
   "execution_count": null,
   "id": "a8fa8d49",
   "metadata": {},
   "outputs": [],
   "source": []
  }
 ],
 "metadata": {
  "kernelspec": {
   "display_name": "WillABill",
   "language": "python",
   "name": "python3"
  },
  "language_info": {
   "codemirror_mode": {
    "name": "ipython",
    "version": 3
   },
   "file_extension": ".py",
   "mimetype": "text/x-python",
   "name": "python",
   "nbconvert_exporter": "python",
   "pygments_lexer": "ipython3",
   "version": "3.12.11"
  }
 },
 "nbformat": 4,
 "nbformat_minor": 5
}
