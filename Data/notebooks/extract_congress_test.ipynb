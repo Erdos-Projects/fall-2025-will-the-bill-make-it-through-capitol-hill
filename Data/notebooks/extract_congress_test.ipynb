{
 "cells": [
  {
   "cell_type": "markdown",
   "id": "ec7170fd",
   "metadata": {},
   "source": [
    "So far, this is just a proof of concept for using the API. Obviously, we need to streamline the process of pulling more rows, loading/saving the csv as well as cleaning the data. "
   ]
  },
  {
   "cell_type": "code",
   "execution_count": 2,
   "id": "5e76465f",
   "metadata": {},
   "outputs": [
    {
     "name": "stdout",
     "output_type": "stream",
     "text": [
      "Requirement already satisfied: requests in c:\\anaconda\\envs\\willabill\\lib\\site-packages (2.32.5)\n",
      "Requirement already satisfied: keyring in c:\\anaconda\\envs\\willabill\\lib\\site-packages (25.6.0)\n",
      "Requirement already satisfied: charset_normalizer<4,>=2 in c:\\anaconda\\envs\\willabill\\lib\\site-packages (from requests) (3.4.3)\n",
      "Requirement already satisfied: idna<4,>=2.5 in c:\\anaconda\\envs\\willabill\\lib\\site-packages (from requests) (3.10)\n",
      "Requirement already satisfied: urllib3<3,>=1.21.1 in c:\\anaconda\\envs\\willabill\\lib\\site-packages (from requests) (2.5.0)\n",
      "Requirement already satisfied: certifi>=2017.4.17 in c:\\anaconda\\envs\\willabill\\lib\\site-packages (from requests) (2025.8.3)\n",
      "Requirement already satisfied: pywin32-ctypes>=0.2.0 in c:\\anaconda\\envs\\willabill\\lib\\site-packages (from keyring) (0.2.3)\n",
      "Requirement already satisfied: jaraco.classes in c:\\anaconda\\envs\\willabill\\lib\\site-packages (from keyring) (3.4.0)\n",
      "Requirement already satisfied: jaraco.functools in c:\\anaconda\\envs\\willabill\\lib\\site-packages (from keyring) (4.3.0)\n",
      "Requirement already satisfied: jaraco.context in c:\\anaconda\\envs\\willabill\\lib\\site-packages (from keyring) (6.0.1)\n",
      "Requirement already satisfied: more-itertools in c:\\anaconda\\envs\\willabill\\lib\\site-packages (from jaraco.classes->keyring) (10.8.0)\n",
      "Note: you may need to restart the kernel to use updated packages.\n"
     ]
    }
   ],
   "source": [
    "%pip install requests keyring"
   ]
  },
  {
   "cell_type": "code",
   "execution_count": 2,
   "id": "14bab1bf",
   "metadata": {},
   "outputs": [],
   "source": [
    "from cdg_client import CDGClient\n",
    "import xml.etree.ElementTree as ET\n",
    "import xmltodict\n",
    "import pandas as pd"
   ]
  },
  {
   "cell_type": "code",
   "execution_count": 54,
   "id": "3de0cc5d",
   "metadata": {},
   "outputs": [],
   "source": [
    "API_KEY_PATH = '../../../api_key.txt'       # put your api_key path here\n",
    "                                            # it shouldn't go to github\n",
    "LIMIT = 250 \n",
    "parse_xml = lambda data: ET.fromstring(data)\n",
    "\n",
    "\n",
    "with open(API_KEY_PATH) as file:\n",
    "    api_key = file.readline()\n",
    "client = CDGClient(api_key, response_format='xml')\n",
    "data, _ = client.get(f'bill?format=xml&limit={100}&fromDateTime=2023-01-01T00:00:00Z&toDateTime=2023-03-11T23:59:59Z')"
   ]
  },
  {
   "cell_type": "code",
   "execution_count": 5,
   "id": "8e111ea5",
   "metadata": {},
   "outputs": [
    {
     "data": {
      "text/plain": [
       "100"
      ]
     },
     "execution_count": 5,
     "metadata": {},
     "output_type": "execute_result"
    }
   ],
   "source": [
    "bills_dict = xmltodict.parse(data)['api-root']['bills']['bill']\n",
    "len(bills_dict)"
   ]
  },
  {
   "cell_type": "code",
   "execution_count": 3,
   "id": "4fd436a7",
   "metadata": {},
   "outputs": [],
   "source": [
    "df = pd.read_csv('congress_bills.csv')"
   ]
  },
  {
   "cell_type": "code",
   "execution_count": 5,
   "id": "ec31765d",
   "metadata": {},
   "outputs": [
    {
     "data": {
      "text/plain": [
       "0.020412811387900357"
      ]
     },
     "execution_count": 5,
     "metadata": {},
     "output_type": "execute_result"
    }
   ],
   "source": [
    "len(df[df.became_law == True])/len(df)"
   ]
  },
  {
   "cell_type": "code",
   "execution_count": 52,
   "id": "01b97266",
   "metadata": {},
   "outputs": [
    {
     "data": {
      "text/plain": [
       "'117-s-5320'"
      ]
     },
     "execution_count": 52,
     "metadata": {},
     "output_type": "execute_result"
    }
   ],
   "source": [
    "url = df.iloc[0]['url'][28:]\n",
    "id = url[5:-11].replace('/','-')\n",
    "id"
   ]
  },
  {
   "cell_type": "code",
   "execution_count": 20,
   "id": "e13aa602",
   "metadata": {},
   "outputs": [
    {
     "data": {
      "application/vnd.microsoft.datawrangler.viewer.v0+json": {
       "columns": [
        {
         "name": "index",
         "rawType": "int64",
         "type": "integer"
        },
        {
         "name": "action_date",
         "rawType": "datetime64[ns]",
         "type": "datetime"
        }
       ],
       "ref": "1fd4bc51-517b-4dec-94b0-411cde80b51d",
       "rows": [
        [
         "0",
         null
        ]
       ],
       "shape": {
        "columns": 1,
        "rows": 1
       }
      },
      "text/html": [
       "<div>\n",
       "<style scoped>\n",
       "    .dataframe tbody tr th:only-of-type {\n",
       "        vertical-align: middle;\n",
       "    }\n",
       "\n",
       "    .dataframe tbody tr th {\n",
       "        vertical-align: top;\n",
       "    }\n",
       "\n",
       "    .dataframe thead th {\n",
       "        text-align: right;\n",
       "    }\n",
       "</style>\n",
       "<table border=\"1\" class=\"dataframe\">\n",
       "  <thead>\n",
       "    <tr style=\"text-align: right;\">\n",
       "      <th></th>\n",
       "      <th>action_date</th>\n",
       "    </tr>\n",
       "  </thead>\n",
       "  <tbody>\n",
       "    <tr>\n",
       "      <th>0</th>\n",
       "      <td>NaT</td>\n",
       "    </tr>\n",
       "  </tbody>\n",
       "</table>\n",
       "</div>"
      ],
      "text/plain": [
       "  action_date\n",
       "0         NaT"
      ]
     },
     "execution_count": 20,
     "metadata": {},
     "output_type": "execute_result"
    }
   ],
   "source": [
    "pd.DataFrame({'action_date': [pd.NaT]})"
   ]
  },
  {
   "cell_type": "code",
   "execution_count": 53,
   "id": "c4a2aee9",
   "metadata": {},
   "outputs": [
    {
     "data": {
      "text/plain": [
       "{'actions': {'item': [{'actionDate': '2025-07-04',\n",
       "    'text': 'Became Public Law No: 119-21.',\n",
       "    'type': 'President',\n",
       "    'actionCode': 'E40000',\n",
       "    'sourceSystem': {'code': '9', 'name': 'Library of Congress'}},\n",
       "   {'actionDate': '2025-07-04',\n",
       "    'text': 'Became Public Law No: 119-21.',\n",
       "    'type': 'BecameLaw',\n",
       "    'actionCode': '36000',\n",
       "    'sourceSystem': {'code': '9', 'name': 'Library of Congress'}},\n",
       "   {'actionDate': '2025-07-04',\n",
       "    'text': 'Signed by President.',\n",
       "    'type': 'President',\n",
       "    'actionCode': 'E30000',\n",
       "    'sourceSystem': {'code': '9', 'name': 'Library of Congress'}},\n",
       "   {'actionDate': '2025-07-04',\n",
       "    'text': 'Signed by President.',\n",
       "    'type': 'BecameLaw',\n",
       "    'actionCode': '36000',\n",
       "    'sourceSystem': {'code': '9', 'name': 'Library of Congress'}},\n",
       "   {'actionDate': '2025-07-03',\n",
       "    'text': 'Presented to President.',\n",
       "    'type': 'Floor',\n",
       "    'actionCode': 'E20000',\n",
       "    'sourceSystem': {'code': '2', 'name': 'House floor actions'}},\n",
       "   {'actionDate': '2025-07-03',\n",
       "    'text': 'Presented to President.',\n",
       "    'type': 'President',\n",
       "    'actionCode': '28000',\n",
       "    'sourceSystem': {'code': '9', 'name': 'Library of Congress'}},\n",
       "   {'actionDate': '2025-07-03',\n",
       "    'actionTime': '14:31:40',\n",
       "    'text': 'Motion to reconsider laid on the table Agreed to without objection.',\n",
       "    'type': 'ResolvingDifferences',\n",
       "    'actionCode': 'H41931',\n",
       "    'sourceSystem': {'code': '2', 'name': 'House floor actions'}},\n",
       "   {'actionDate': '2025-07-03',\n",
       "    'actionTime': '14:31:38',\n",
       "    'text': 'On motion that the House agree to the Senate amendment Agreed to by recorded vote: 218 - 214 (Roll no. 190). (text: CR H3059-3143)',\n",
       "    'type': 'ResolvingDifferences',\n",
       "    'actionCode': 'H41610',\n",
       "    'sourceSystem': {'code': '2', 'name': 'House floor actions'},\n",
       "    'recordedVotes': {'recordedVote': {'rollNumber': '190',\n",
       "      'url': 'https://clerk.house.gov/evs/2025/roll190.xml',\n",
       "      'chamber': 'House',\n",
       "      'congress': '119',\n",
       "      'date': '2025-07-03T18:31:38Z',\n",
       "      'sessionNumber': '1'}}},\n",
       "   {'actionDate': '2025-07-03',\n",
       "    'text': 'Resolving differences -- House actions: On motion that the House agree to the Senate amendment Agreed to by recorded vote: 218 - 214 (Roll no. 190).',\n",
       "    'type': 'NotUsed',\n",
       "    'actionCode': '19500',\n",
       "    'sourceSystem': {'code': '9', 'name': 'Library of Congress'},\n",
       "    'recordedVotes': {'recordedVote': {'rollNumber': '190',\n",
       "      'url': 'https://clerk.house.gov/evs/2025/roll190.xml',\n",
       "      'chamber': 'House',\n",
       "      'congress': '119',\n",
       "      'date': '2025-07-03T18:31:38Z',\n",
       "      'sessionNumber': '1'}}},\n",
       "   {'actionDate': '2025-07-03',\n",
       "    'actionTime': '14:06:56',\n",
       "    'text': 'The previous question was ordered pursuant to the rule.',\n",
       "    'type': 'ResolvingDifferences',\n",
       "    'actionCode': 'H41400',\n",
       "    'sourceSystem': {'code': '2', 'name': 'House floor actions'}},\n",
       "   {'actionDate': '2025-07-03',\n",
       "    'actionTime': '03:30:49',\n",
       "    'text': 'DEBATE - Pursuant to the provisions of H. Res. 566, the House proceeded with one hour of debate on the motion to agree to the Senate amendment to H.R. 1.',\n",
       "    'type': 'Floor',\n",
       "    'actionCode': 'H8D000',\n",
       "    'sourceSystem': {'code': '2', 'name': 'House floor actions'}},\n",
       "   {'actionDate': '2025-07-03',\n",
       "    'actionTime': '03:30:06',\n",
       "    'text': 'Mr. Arrington moved that the House agree to the Senate amendment to H.R. 1. (CR H3143)',\n",
       "    'type': 'Floor',\n",
       "    'actionCode': 'H8D000',\n",
       "    'sourceSystem': {'code': '2', 'name': 'House floor actions'}},\n",
       "   {'actionDate': '2025-07-03',\n",
       "    'actionTime': '03:29:30',\n",
       "    'text': 'Mr. Arrington moved that the House agree to the Senate amendment. (consideration: CR H3059-3187)',\n",
       "    'type': 'ResolvingDifferences',\n",
       "    'actionCode': 'H40150',\n",
       "    'sourceSystem': {'code': '2', 'name': 'House floor actions'}},\n",
       "   {'actionDate': '2025-07-03',\n",
       "    'actionTime': '03:29:29',\n",
       "    'text': 'Pursuant to the provisions of H. Res. 566, Mr. Arrington called up the Senate amendment to H.R. 1.',\n",
       "    'type': 'Floor',\n",
       "    'actionCode': 'H8D000',\n",
       "    'sourceSystem': {'code': '2', 'name': 'House floor actions'}},\n",
       "   {'actionDate': '2025-07-01',\n",
       "    'text': 'Message on Senate action sent to the House.',\n",
       "    'type': 'Floor',\n",
       "    'sourceSystem': {'name': 'Senate'}},\n",
       "   {'actionDate': '2025-07-01',\n",
       "    'text': 'Passed Senate with an amendment by Yea-Nay Vote. 51 - 50. Record Vote Number: 372.',\n",
       "    'type': 'Floor',\n",
       "    'sourceSystem': {'name': 'Senate'},\n",
       "    'recordedVotes': {'recordedVote': {'rollNumber': '372',\n",
       "      'url': 'https://www.senate.gov/legislative/LIS/roll_call_votes/vote1191/vote_119_1_00372.xml',\n",
       "      'chamber': 'Senate',\n",
       "      'congress': '119',\n",
       "      'date': '2025-07-01T16:03:40Z',\n",
       "      'sessionNumber': '1'}}},\n",
       "   {'actionDate': '2025-07-01',\n",
       "    'text': 'Passed/agreed to in Senate: Passed Senate with an amendment by Yea-Nay Vote. 51 - 50. Record Vote Number: 372.',\n",
       "    'type': 'Floor',\n",
       "    'actionCode': '17000',\n",
       "    'sourceSystem': {'code': '9', 'name': 'Library of Congress'},\n",
       "    'recordedVotes': {'recordedVote': {'rollNumber': '372',\n",
       "      'url': 'https://www.senate.gov/legislative/LIS/roll_call_votes/vote1191/vote_119_1_00372.xml',\n",
       "      'chamber': 'Senate',\n",
       "      'congress': '119',\n",
       "      'date': '2025-07-01T16:03:40Z',\n",
       "      'sessionNumber': '1'}}},\n",
       "   {'actionDate': '2025-07-01',\n",
       "    'text': 'Motion by Senator Warnock to commit to Senate Committee on Finance with instructions rejected in Senate by Yea-Nay Vote. 48 - 51. Record Vote Number: 359.',\n",
       "    'type': 'Floor',\n",
       "    'sourceSystem': {'name': 'Senate'},\n",
       "    'committees': {'item': {'url': 'https://api.congress.gov/v3/committee/senate/ssfi00?format=xml',\n",
       "      'systemCode': 'ssfi00',\n",
       "      'name': 'Finance Committee'}},\n",
       "    'recordedVotes': {'recordedVote': {'rollNumber': '359',\n",
       "      'url': 'https://www.senate.gov/legislative/LIS/roll_call_votes/vote1191/vote_119_1_00359.xml',\n",
       "      'chamber': 'Senate',\n",
       "      'congress': '119',\n",
       "      'date': '2025-07-01T06:49:12Z',\n",
       "      'sessionNumber': '1'}}},\n",
       "   {'actionDate': '2025-07-01',\n",
       "    'text': 'Motion by Senator Wyden to commit to Senate Committee on Finance with instructions rejected in Senate by Yea-Nay Vote. 47 - 53. Record Vote Number: 357.',\n",
       "    'type': 'Floor',\n",
       "    'sourceSystem': {'name': 'Senate'},\n",
       "    'committees': {'item': {'url': 'https://api.congress.gov/v3/committee/senate/ssfi00?format=xml',\n",
       "      'systemCode': 'ssfi00',\n",
       "      'name': 'Finance Committee'}},\n",
       "    'recordedVotes': {'recordedVote': {'rollNumber': '357',\n",
       "      'url': 'https://www.senate.gov/legislative/LIS/roll_call_votes/vote1191/vote_119_1_00357.xml',\n",
       "      'chamber': 'Senate',\n",
       "      'congress': '119',\n",
       "      'date': '2025-07-01T06:06:11Z',\n",
       "      'sessionNumber': '1'}}},\n",
       "   {'actionDate': '2025-07-01',\n",
       "    'text': 'Motion by Senator Bennet to commit to Senate Committee on Finance with instructions rejected in Senate by Yea-Nay Vote. 47 - 53. Record Vote Number: 354.',\n",
       "    'type': 'Floor',\n",
       "    'sourceSystem': {'name': 'Senate'},\n",
       "    'committees': {'item': {'url': 'https://api.congress.gov/v3/committee/senate/ssfi00?format=xml',\n",
       "      'systemCode': 'ssfi00',\n",
       "      'name': 'Finance Committee'}},\n",
       "    'recordedVotes': {'recordedVote': {'rollNumber': '354',\n",
       "      'url': 'https://www.senate.gov/legislative/LIS/roll_call_votes/vote1191/vote_119_1_00354.xml',\n",
       "      'chamber': 'Senate',\n",
       "      'congress': '119',\n",
       "      'date': '2025-07-01T04:10:23Z',\n",
       "      'sessionNumber': '1'}}}]},\n",
       " 'pagination': {'count': '59',\n",
       "  'next': 'https://api.congress.gov/v3/bill/119/hr/1/actions?offset=20&limit=20&format=xml'},\n",
       " 'request': {'congress': '119',\n",
       "  'billType': 'hr',\n",
       "  'billNumber': '1',\n",
       "  'billUrl': 'https://api.congress.gov/v3/bill/119/hr/1?format=xml',\n",
       "  'contentType': 'application/xml',\n",
       "  'format': 'xml'}}"
      ]
     },
     "execution_count": 53,
     "metadata": {},
     "output_type": "execute_result"
    }
   ],
   "source": [
    "data, _ = client.get('bill/119/hr/1/actions?format=xml')\n",
    "xmltodict.parse(data)['api-root']"
   ]
  },
  {
   "cell_type": "code",
   "execution_count": 43,
   "id": "1331bc26",
   "metadata": {},
   "outputs": [
    {
     "data": {
      "application/vnd.microsoft.datawrangler.viewer.v0+json": {
       "columns": [
        {
         "name": "index",
         "rawType": "int64",
         "type": "integer"
        },
        {
         "name": "actionDate",
         "rawType": "object",
         "type": "string"
        },
        {
         "name": "text",
         "rawType": "object",
         "type": "string"
        },
        {
         "name": "type",
         "rawType": "object",
         "type": "string"
        },
        {
         "name": "sourceSystem",
         "rawType": "object",
         "type": "unknown"
        },
        {
         "name": "actionCode",
         "rawType": "object",
         "type": "unknown"
        },
        {
         "name": "committees",
         "rawType": "object",
         "type": "unknown"
        }
       ],
       "ref": "5016a7bf-a655-479b-8cfa-cf848a4ffe41",
       "rows": [
        [
         "0",
         "2025-10-09",
         "Passed Senate with an amendment by Unanimous Consent.",
         "Floor",
         "{'name': 'Senate'}",
         null,
         null
        ],
        [
         "1",
         "2025-10-09",
         "Passed/agreed to in Senate: Passed Senate with an amendment by Unanimous Consent.",
         "Floor",
         "{'code': '9', 'name': 'Library of Congress'}",
         "17000",
         null
        ],
        [
         "2",
         "2025-09-11",
         "Placed on Senate Legislative Calendar under General Orders. Calendar No. 158.",
         "Calendars",
         "{'name': 'Senate'}",
         null,
         null
        ],
        [
         "3",
         "2025-09-11",
         "Committee on Health, Education, Labor, and Pensions. Reported by Senator Cassidy with an amendment in the nature of a substitute. Without written report.",
         "Committee",
         "{'name': 'Senate'}",
         null,
         "{'item': {'url': 'https://api.congress.gov/v3/committee/senate/sshr00?format=xml', 'systemCode': 'sshr00', 'name': 'Health, Education, Labor, and Pensions Committee'}}"
        ],
        [
         "4",
         "2025-09-11",
         "Committee on Health, Education, Labor, and Pensions. Reported by Senator Cassidy with an amendment in the nature of a substitute. Without written report.",
         "Committee",
         "{'code': '9', 'name': 'Library of Congress'}",
         "14000",
         "{'item': {'url': 'https://api.congress.gov/v3/committee/senate/sshr00?format=xml', 'systemCode': 'sshr00', 'name': 'Health, Education, Labor, and Pensions Committee'}}"
        ],
        [
         "5",
         "2025-07-30",
         "Committee on Health, Education, Labor, and Pensions. Ordered to be reported with an amendment in the nature of a substitute favorably.",
         "Committee",
         "{'name': 'Senate'}",
         null,
         "{'item': {'url': 'https://api.congress.gov/v3/committee/senate/sshr00?format=xml', 'systemCode': 'sshr00', 'name': 'Health, Education, Labor, and Pensions Committee'}}"
        ],
        [
         "6",
         "2025-07-23",
         "Read twice and referred to the Committee on Health, Education, Labor, and Pensions.",
         "IntroReferral",
         "{'name': 'Senate'}",
         null,
         "{'item': {'url': 'https://api.congress.gov/v3/committee/senate/sshr00?format=xml', 'systemCode': 'sshr00', 'name': 'Health, Education, Labor, and Pensions Committee'}}"
        ],
        [
         "7",
         "2025-07-23",
         "Introduced in Senate",
         "IntroReferral",
         "{'code': '9', 'name': 'Library of Congress'}",
         "10000",
         null
        ]
       ],
       "shape": {
        "columns": 6,
        "rows": 8
       }
      },
      "text/html": [
       "<div>\n",
       "<style scoped>\n",
       "    .dataframe tbody tr th:only-of-type {\n",
       "        vertical-align: middle;\n",
       "    }\n",
       "\n",
       "    .dataframe tbody tr th {\n",
       "        vertical-align: top;\n",
       "    }\n",
       "\n",
       "    .dataframe thead th {\n",
       "        text-align: right;\n",
       "    }\n",
       "</style>\n",
       "<table border=\"1\" class=\"dataframe\">\n",
       "  <thead>\n",
       "    <tr style=\"text-align: right;\">\n",
       "      <th></th>\n",
       "      <th>actionDate</th>\n",
       "      <th>text</th>\n",
       "      <th>type</th>\n",
       "      <th>sourceSystem</th>\n",
       "      <th>actionCode</th>\n",
       "      <th>committees</th>\n",
       "    </tr>\n",
       "  </thead>\n",
       "  <tbody>\n",
       "    <tr>\n",
       "      <th>0</th>\n",
       "      <td>2025-10-09</td>\n",
       "      <td>Passed Senate with an amendment by Unanimous C...</td>\n",
       "      <td>Floor</td>\n",
       "      <td>{'name': 'Senate'}</td>\n",
       "      <td>NaN</td>\n",
       "      <td>NaN</td>\n",
       "    </tr>\n",
       "    <tr>\n",
       "      <th>1</th>\n",
       "      <td>2025-10-09</td>\n",
       "      <td>Passed/agreed to in Senate: Passed Senate with...</td>\n",
       "      <td>Floor</td>\n",
       "      <td>{'code': '9', 'name': 'Library of Congress'}</td>\n",
       "      <td>17000</td>\n",
       "      <td>NaN</td>\n",
       "    </tr>\n",
       "    <tr>\n",
       "      <th>2</th>\n",
       "      <td>2025-09-11</td>\n",
       "      <td>Placed on Senate Legislative Calendar under Ge...</td>\n",
       "      <td>Calendars</td>\n",
       "      <td>{'name': 'Senate'}</td>\n",
       "      <td>NaN</td>\n",
       "      <td>NaN</td>\n",
       "    </tr>\n",
       "    <tr>\n",
       "      <th>3</th>\n",
       "      <td>2025-09-11</td>\n",
       "      <td>Committee on Health, Education, Labor, and Pen...</td>\n",
       "      <td>Committee</td>\n",
       "      <td>{'name': 'Senate'}</td>\n",
       "      <td>NaN</td>\n",
       "      <td>{'item': {'url': 'https://api.congress.gov/v3/...</td>\n",
       "    </tr>\n",
       "    <tr>\n",
       "      <th>4</th>\n",
       "      <td>2025-09-11</td>\n",
       "      <td>Committee on Health, Education, Labor, and Pen...</td>\n",
       "      <td>Committee</td>\n",
       "      <td>{'code': '9', 'name': 'Library of Congress'}</td>\n",
       "      <td>14000</td>\n",
       "      <td>{'item': {'url': 'https://api.congress.gov/v3/...</td>\n",
       "    </tr>\n",
       "    <tr>\n",
       "      <th>5</th>\n",
       "      <td>2025-07-30</td>\n",
       "      <td>Committee on Health, Education, Labor, and Pen...</td>\n",
       "      <td>Committee</td>\n",
       "      <td>{'name': 'Senate'}</td>\n",
       "      <td>NaN</td>\n",
       "      <td>{'item': {'url': 'https://api.congress.gov/v3/...</td>\n",
       "    </tr>\n",
       "    <tr>\n",
       "      <th>6</th>\n",
       "      <td>2025-07-23</td>\n",
       "      <td>Read twice and referred to the Committee on He...</td>\n",
       "      <td>IntroReferral</td>\n",
       "      <td>{'name': 'Senate'}</td>\n",
       "      <td>NaN</td>\n",
       "      <td>{'item': {'url': 'https://api.congress.gov/v3/...</td>\n",
       "    </tr>\n",
       "    <tr>\n",
       "      <th>7</th>\n",
       "      <td>2025-07-23</td>\n",
       "      <td>Introduced in Senate</td>\n",
       "      <td>IntroReferral</td>\n",
       "      <td>{'code': '9', 'name': 'Library of Congress'}</td>\n",
       "      <td>10000</td>\n",
       "      <td>NaN</td>\n",
       "    </tr>\n",
       "  </tbody>\n",
       "</table>\n",
       "</div>"
      ],
      "text/plain": [
       "   actionDate                                               text  \\\n",
       "0  2025-10-09  Passed Senate with an amendment by Unanimous C...   \n",
       "1  2025-10-09  Passed/agreed to in Senate: Passed Senate with...   \n",
       "2  2025-09-11  Placed on Senate Legislative Calendar under Ge...   \n",
       "3  2025-09-11  Committee on Health, Education, Labor, and Pen...   \n",
       "4  2025-09-11  Committee on Health, Education, Labor, and Pen...   \n",
       "5  2025-07-30  Committee on Health, Education, Labor, and Pen...   \n",
       "6  2025-07-23  Read twice and referred to the Committee on He...   \n",
       "7  2025-07-23                               Introduced in Senate   \n",
       "\n",
       "            type                                  sourceSystem actionCode  \\\n",
       "0          Floor                            {'name': 'Senate'}        NaN   \n",
       "1          Floor  {'code': '9', 'name': 'Library of Congress'}      17000   \n",
       "2      Calendars                            {'name': 'Senate'}        NaN   \n",
       "3      Committee                            {'name': 'Senate'}        NaN   \n",
       "4      Committee  {'code': '9', 'name': 'Library of Congress'}      14000   \n",
       "5      Committee                            {'name': 'Senate'}        NaN   \n",
       "6  IntroReferral                            {'name': 'Senate'}        NaN   \n",
       "7  IntroReferral  {'code': '9', 'name': 'Library of Congress'}      10000   \n",
       "\n",
       "                                          committees  \n",
       "0                                                NaN  \n",
       "1                                                NaN  \n",
       "2                                                NaN  \n",
       "3  {'item': {'url': 'https://api.congress.gov/v3/...  \n",
       "4  {'item': {'url': 'https://api.congress.gov/v3/...  \n",
       "5  {'item': {'url': 'https://api.congress.gov/v3/...  \n",
       "6  {'item': {'url': 'https://api.congress.gov/v3/...  \n",
       "7                                                NaN  "
      ]
     },
     "execution_count": 43,
     "metadata": {},
     "output_type": "execute_result"
    }
   ],
   "source": [
    "data, _ = client.get('bill/119/s/2403/actions?format=xml')\n",
    "pd.DataFrame(xmltodict.parse(data)['api-root']['actions']['item'])"
   ]
  },
  {
   "cell_type": "code",
   "execution_count": 9,
   "id": "b3edb9ed",
   "metadata": {},
   "outputs": [
    {
     "data": {
      "application/vnd.microsoft.datawrangler.viewer.v0+json": {
       "columns": [
        {
         "name": "index",
         "rawType": "object",
         "type": "string"
        },
        {
         "name": "1",
         "rawType": "object",
         "type": "unknown"
        }
       ],
       "ref": "db3517a2-1478-4dfb-af5a-bc1c3ec93db5",
       "rows": [
        [
         "congress",
         "117"
        ],
        [
         "type",
         "S"
        ],
        [
         "originChamber",
         "Senate"
        ],
        [
         "originChamberCode",
         "S"
        ],
        [
         "number",
         "5291"
        ],
        [
         "url",
         "https://api.congress.gov/v3/bill/117/s/5291?format=xml"
        ],
        [
         "title",
         "A bill to delay the implementation of the modifications of exceptions for reporting of third party network transactions."
        ],
        [
         "updateDateIncludingText",
         "2023-03-02"
        ],
        [
         "latestAction",
         "{'actionDate': '2022-12-15', 'text': 'Read twice and referred to the Committee on Finance.'}"
        ],
        [
         "updateDate",
         "2023-03-02"
        ]
       ],
       "shape": {
        "columns": 1,
        "rows": 10
       }
      },
      "text/plain": [
       "congress                                                                 117\n",
       "type                                                                       S\n",
       "originChamber                                                         Senate\n",
       "originChamberCode                                                          S\n",
       "number                                                                  5291\n",
       "url                        https://api.congress.gov/v3/bill/117/s/5291?fo...\n",
       "title                      A bill to delay the implementation of the modi...\n",
       "updateDateIncludingText                                           2023-03-02\n",
       "latestAction               {'actionDate': '2022-12-15', 'text': 'Read twi...\n",
       "updateDate                                                        2023-03-02\n",
       "Name: 1, dtype: object"
      ]
     },
     "execution_count": 9,
     "metadata": {},
     "output_type": "execute_result"
    }
   ],
   "source": [
    "df.iloc[1]"
   ]
  },
  {
   "cell_type": "code",
   "execution_count": 10,
   "id": "961d7d0b",
   "metadata": {},
   "outputs": [
    {
     "name": "stdout",
     "output_type": "stream",
     "text": [
      "<class 'pandas.core.frame.DataFrame'>\n",
      "RangeIndex: 1100 entries, 0 to 1099\n",
      "Data columns (total 10 columns):\n",
      " #   Column                   Non-Null Count  Dtype \n",
      "---  ------                   --------------  ----- \n",
      " 0   congress                 1100 non-null   object\n",
      " 1   type                     1100 non-null   object\n",
      " 2   originChamber            1100 non-null   object\n",
      " 3   originChamberCode        1100 non-null   object\n",
      " 4   number                   1100 non-null   object\n",
      " 5   url                      1100 non-null   object\n",
      " 6   title                    1100 non-null   object\n",
      " 7   updateDateIncludingText  1100 non-null   object\n",
      " 8   latestAction             1100 non-null   object\n",
      " 9   updateDate               1100 non-null   object\n",
      "dtypes: object(10)\n",
      "memory usage: 86.1+ KB\n"
     ]
    }
   ],
   "source": [
    "# get the next LIMIT # of bills and add it to the data frame over and over\n",
    "for i in range(1, 5):\n",
    "    offset = i * LIMIT\n",
    "    more_data, _ = client.get(f'bill?format=json&limit={LIMIT}&offset={offset}') \n",
    "    more_bills = xmltodict.parse(more_data)['api-root']['bills']['bill']\n",
    "    more_rows = pd.DataFrame(more_bills)\n",
    "    df = pd.concat([df, more_rows], ignore_index=True)\n",
    "df.info()"
   ]
  },
  {
   "cell_type": "code",
   "execution_count": 11,
   "id": "db507ef2",
   "metadata": {},
   "outputs": [],
   "source": [
    "# save as csv \n",
    "# # probably want to go to dropbox or something, not directly in the repository\n",
    "df.to_csv('congress_bills.csv') "
   ]
  }
 ],
 "metadata": {
  "kernelspec": {
   "display_name": "WillABill",
   "language": "python",
   "name": "python3"
  },
  "language_info": {
   "codemirror_mode": {
    "name": "ipython",
    "version": 3
   },
   "file_extension": ".py",
   "mimetype": "text/x-python",
   "name": "python",
   "nbconvert_exporter": "python",
   "pygments_lexer": "ipython3",
   "version": "3.12.11"
  }
 },
 "nbformat": 4,
 "nbformat_minor": 5
}
