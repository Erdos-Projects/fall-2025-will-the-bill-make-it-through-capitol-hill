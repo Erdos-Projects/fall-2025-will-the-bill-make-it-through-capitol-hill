{
 "cells": [
  {
   "cell_type": "markdown",
   "id": "ec7170fd",
   "metadata": {},
   "source": [
    "So far, this is just a proof of concept for using the API. Obviously, we need to streamline the process of pulling more rows, loading/saving the csv as well as cleaning the data. "
   ]
  },
  {
   "cell_type": "code",
   "execution_count": 90,
   "id": "5e76465f",
   "metadata": {},
   "outputs": [
    {
     "name": "stdout",
     "output_type": "stream",
     "text": [
      "Requirement already satisfied: requests in c:\\anaconda\\envs\\willabill\\lib\\site-packages (2.32.5)\n",
      "Requirement already satisfied: keyring in c:\\anaconda\\envs\\willabill\\lib\\site-packages (25.6.0)\n",
      "Requirement already satisfied: charset_normalizer<4,>=2 in c:\\anaconda\\envs\\willabill\\lib\\site-packages (from requests) (3.4.3)\n",
      "Requirement already satisfied: idna<4,>=2.5 in c:\\anaconda\\envs\\willabill\\lib\\site-packages (from requests) (3.10)\n",
      "Requirement already satisfied: urllib3<3,>=1.21.1 in c:\\anaconda\\envs\\willabill\\lib\\site-packages (from requests) (2.5.0)\n",
      "Requirement already satisfied: certifi>=2017.4.17 in c:\\anaconda\\envs\\willabill\\lib\\site-packages (from requests) (2025.8.3)\n",
      "Requirement already satisfied: pywin32-ctypes>=0.2.0 in c:\\anaconda\\envs\\willabill\\lib\\site-packages (from keyring) (0.2.3)\n",
      "Requirement already satisfied: jaraco.classes in c:\\anaconda\\envs\\willabill\\lib\\site-packages (from keyring) (3.4.0)\n",
      "Requirement already satisfied: jaraco.functools in c:\\anaconda\\envs\\willabill\\lib\\site-packages (from keyring) (4.3.0)\n",
      "Requirement already satisfied: jaraco.context in c:\\anaconda\\envs\\willabill\\lib\\site-packages (from keyring) (6.0.1)\n",
      "Requirement already satisfied: more-itertools in c:\\anaconda\\envs\\willabill\\lib\\site-packages (from jaraco.classes->keyring) (10.8.0)\n",
      "Note: you may need to restart the kernel to use updated packages.\n"
     ]
    }
   ],
   "source": [
    "%pip install requests keyring"
   ]
  },
  {
   "cell_type": "code",
   "execution_count": 91,
   "id": "14bab1bf",
   "metadata": {},
   "outputs": [],
   "source": [
    "from cdg_client import CDGClient\n",
    "import xml.etree.ElementTree as ET\n",
    "import xmltodict\n",
    "import pandas as pd"
   ]
  },
  {
   "cell_type": "code",
   "execution_count": 92,
   "id": "3de0cc5d",
   "metadata": {},
   "outputs": [],
   "source": [
    "API_KEY_PATH = '../../../api_key.txt'       # put your api_key path here\n",
    "                                            # it shouldn't go to github\n",
    "LIMIT = 10 # testing with a small number since amount per day is capped \n",
    "parse_xml = lambda data: ET.fromstring(data)\n",
    "\n",
    "\n",
    "with open(API_KEY_PATH) as file:\n",
    "    api_key = file.readline()\n",
    "client = CDGClient(api_key, response_format='xml')\n",
    "data, _ = client.get(f'bill?format=xml&limit={LIMIT}')"
   ]
  },
  {
   "cell_type": "code",
   "execution_count": 93,
   "id": "1331bc26",
   "metadata": {},
   "outputs": [
    {
     "data": {
      "application/vnd.microsoft.datawrangler.viewer.v0+json": {
       "columns": [
        {
         "name": "index",
         "rawType": "int64",
         "type": "integer"
        },
        {
         "name": "congress",
         "rawType": "object",
         "type": "string"
        },
        {
         "name": "type",
         "rawType": "object",
         "type": "string"
        },
        {
         "name": "originChamber",
         "rawType": "object",
         "type": "string"
        },
        {
         "name": "originChamberCode",
         "rawType": "object",
         "type": "string"
        },
        {
         "name": "number",
         "rawType": "object",
         "type": "string"
        },
        {
         "name": "url",
         "rawType": "object",
         "type": "string"
        },
        {
         "name": "title",
         "rawType": "object",
         "type": "string"
        },
        {
         "name": "updateDateIncludingText",
         "rawType": "object",
         "type": "string"
        },
        {
         "name": "latestAction",
         "rawType": "object",
         "type": "unknown"
        },
        {
         "name": "updateDate",
         "rawType": "object",
         "type": "string"
        }
       ],
       "ref": "fb510e38-3ca6-4dac-a7d6-05e224745930",
       "rows": [
        [
         "0",
         "119",
         "SRES",
         "Senate",
         "S",
         "420",
         "https://api.congress.gov/v3/bill/119/sres/420?format=xml",
         "A resolution supporting the designation of September 19, 2025, as \"National Concussion Awareness Day\".",
         "2025-09-30",
         "{'actionDate': '2025-09-29', 'text': 'Submitted in the Senate, considered, and agreed to without amendment and with a preamble by Unanimous Consent. (consideration: CR S6844; text: CR S6839)'}",
         "2025-09-30"
        ],
        [
         "1",
         "119",
         "SRES",
         "Senate",
         "S",
         "418",
         "https://api.congress.gov/v3/bill/119/sres/418?format=xml",
         "A resolution expressing support for the designation of the week of September 20 through September 27, 2025, as \"National Estuaries Week\".",
         "2025-09-30",
         "{'actionDate': '2025-09-29', 'text': 'Resolution agreed to in Senate without amendment and with a preamble by Unanimous Consent. (text: CR 9/19/2025 S6795-6796)'}",
         "2025-09-30"
        ],
        [
         "2",
         "119",
         "S",
         "Senate",
         "S",
         "2144",
         "https://api.congress.gov/v3/bill/119/s/2144?format=xml",
         "A bill to improve the safety and security of Members of Congress, immediate family members of Members of Congress, and congressional staff.",
         "2025-09-30",
         "{'actionDate': '2025-09-29', 'text': 'Passed Senate with an amendment by Unanimous Consent. (text: CR S6841-6842)'}",
         "2025-09-30"
        ],
        [
         "3",
         "119",
         "S",
         "Senate",
         "S",
         "1333",
         "https://api.congress.gov/v3/bill/119/s/1333?format=xml",
         "Strengthening Child Exploitation Enforcement Act",
         "2025-09-30",
         "{'actionDate': '2025-09-29', 'text': 'Passed Senate without amendment by Unanimous Consent. (text: CR S6843-6844)'}",
         "2025-09-30"
        ],
        [
         "4",
         "119",
         "HR",
         "House",
         "H",
         "5371",
         "https://api.congress.gov/v3/bill/119/hr/5371?format=xml",
         "Continuing Appropriations and Extensions Act, 2026",
         "2025-09-30",
         "{'actionDate': '2025-09-29', 'text': 'Cloture motion on the motion to proceed to the measure presented in Senate. (: CR S6842)'}",
         "2025-09-30"
        ]
       ],
       "shape": {
        "columns": 10,
        "rows": 5
       }
      },
      "text/html": [
       "<div>\n",
       "<style scoped>\n",
       "    .dataframe tbody tr th:only-of-type {\n",
       "        vertical-align: middle;\n",
       "    }\n",
       "\n",
       "    .dataframe tbody tr th {\n",
       "        vertical-align: top;\n",
       "    }\n",
       "\n",
       "    .dataframe thead th {\n",
       "        text-align: right;\n",
       "    }\n",
       "</style>\n",
       "<table border=\"1\" class=\"dataframe\">\n",
       "  <thead>\n",
       "    <tr style=\"text-align: right;\">\n",
       "      <th></th>\n",
       "      <th>congress</th>\n",
       "      <th>type</th>\n",
       "      <th>originChamber</th>\n",
       "      <th>originChamberCode</th>\n",
       "      <th>number</th>\n",
       "      <th>url</th>\n",
       "      <th>title</th>\n",
       "      <th>updateDateIncludingText</th>\n",
       "      <th>latestAction</th>\n",
       "      <th>updateDate</th>\n",
       "    </tr>\n",
       "  </thead>\n",
       "  <tbody>\n",
       "    <tr>\n",
       "      <th>0</th>\n",
       "      <td>119</td>\n",
       "      <td>SRES</td>\n",
       "      <td>Senate</td>\n",
       "      <td>S</td>\n",
       "      <td>420</td>\n",
       "      <td>https://api.congress.gov/v3/bill/119/sres/420?...</td>\n",
       "      <td>A resolution supporting the designation of Sep...</td>\n",
       "      <td>2025-09-30</td>\n",
       "      <td>{'actionDate': '2025-09-29', 'text': 'Submitte...</td>\n",
       "      <td>2025-09-30</td>\n",
       "    </tr>\n",
       "    <tr>\n",
       "      <th>1</th>\n",
       "      <td>119</td>\n",
       "      <td>SRES</td>\n",
       "      <td>Senate</td>\n",
       "      <td>S</td>\n",
       "      <td>418</td>\n",
       "      <td>https://api.congress.gov/v3/bill/119/sres/418?...</td>\n",
       "      <td>A resolution expressing support for the design...</td>\n",
       "      <td>2025-09-30</td>\n",
       "      <td>{'actionDate': '2025-09-29', 'text': 'Resoluti...</td>\n",
       "      <td>2025-09-30</td>\n",
       "    </tr>\n",
       "    <tr>\n",
       "      <th>2</th>\n",
       "      <td>119</td>\n",
       "      <td>S</td>\n",
       "      <td>Senate</td>\n",
       "      <td>S</td>\n",
       "      <td>2144</td>\n",
       "      <td>https://api.congress.gov/v3/bill/119/s/2144?fo...</td>\n",
       "      <td>A bill to improve the safety and security of M...</td>\n",
       "      <td>2025-09-30</td>\n",
       "      <td>{'actionDate': '2025-09-29', 'text': 'Passed S...</td>\n",
       "      <td>2025-09-30</td>\n",
       "    </tr>\n",
       "    <tr>\n",
       "      <th>3</th>\n",
       "      <td>119</td>\n",
       "      <td>S</td>\n",
       "      <td>Senate</td>\n",
       "      <td>S</td>\n",
       "      <td>1333</td>\n",
       "      <td>https://api.congress.gov/v3/bill/119/s/1333?fo...</td>\n",
       "      <td>Strengthening Child Exploitation Enforcement Act</td>\n",
       "      <td>2025-09-30</td>\n",
       "      <td>{'actionDate': '2025-09-29', 'text': 'Passed S...</td>\n",
       "      <td>2025-09-30</td>\n",
       "    </tr>\n",
       "    <tr>\n",
       "      <th>4</th>\n",
       "      <td>119</td>\n",
       "      <td>HR</td>\n",
       "      <td>House</td>\n",
       "      <td>H</td>\n",
       "      <td>5371</td>\n",
       "      <td>https://api.congress.gov/v3/bill/119/hr/5371?f...</td>\n",
       "      <td>Continuing Appropriations and Extensions Act, ...</td>\n",
       "      <td>2025-09-30</td>\n",
       "      <td>{'actionDate': '2025-09-29', 'text': 'Cloture ...</td>\n",
       "      <td>2025-09-30</td>\n",
       "    </tr>\n",
       "  </tbody>\n",
       "</table>\n",
       "</div>"
      ],
      "text/plain": [
       "  congress  type originChamber originChamberCode number  \\\n",
       "0      119  SRES        Senate                 S    420   \n",
       "1      119  SRES        Senate                 S    418   \n",
       "2      119     S        Senate                 S   2144   \n",
       "3      119     S        Senate                 S   1333   \n",
       "4      119    HR         House                 H   5371   \n",
       "\n",
       "                                                 url  \\\n",
       "0  https://api.congress.gov/v3/bill/119/sres/420?...   \n",
       "1  https://api.congress.gov/v3/bill/119/sres/418?...   \n",
       "2  https://api.congress.gov/v3/bill/119/s/2144?fo...   \n",
       "3  https://api.congress.gov/v3/bill/119/s/1333?fo...   \n",
       "4  https://api.congress.gov/v3/bill/119/hr/5371?f...   \n",
       "\n",
       "                                               title updateDateIncludingText  \\\n",
       "0  A resolution supporting the designation of Sep...              2025-09-30   \n",
       "1  A resolution expressing support for the design...              2025-09-30   \n",
       "2  A bill to improve the safety and security of M...              2025-09-30   \n",
       "3   Strengthening Child Exploitation Enforcement Act              2025-09-30   \n",
       "4  Continuing Appropriations and Extensions Act, ...              2025-09-30   \n",
       "\n",
       "                                        latestAction  updateDate  \n",
       "0  {'actionDate': '2025-09-29', 'text': 'Submitte...  2025-09-30  \n",
       "1  {'actionDate': '2025-09-29', 'text': 'Resoluti...  2025-09-30  \n",
       "2  {'actionDate': '2025-09-29', 'text': 'Passed S...  2025-09-30  \n",
       "3  {'actionDate': '2025-09-29', 'text': 'Passed S...  2025-09-30  \n",
       "4  {'actionDate': '2025-09-29', 'text': 'Cloture ...  2025-09-30  "
      ]
     },
     "execution_count": 93,
     "metadata": {},
     "output_type": "execute_result"
    }
   ],
   "source": [
    "bills = xmltodict.parse(data)['api-root']['bills']['bill']\n",
    "df = pd.DataFrame(bills)\n",
    "df.head()"
   ]
  },
  {
   "cell_type": "code",
   "execution_count": 94,
   "id": "961d7d0b",
   "metadata": {},
   "outputs": [
    {
     "name": "stdout",
     "output_type": "stream",
     "text": [
      "<class 'pandas.core.frame.DataFrame'>\n",
      "RangeIndex: 50 entries, 0 to 49\n",
      "Data columns (total 10 columns):\n",
      " #   Column                   Non-Null Count  Dtype \n",
      "---  ------                   --------------  ----- \n",
      " 0   congress                 50 non-null     object\n",
      " 1   type                     50 non-null     object\n",
      " 2   originChamber            50 non-null     object\n",
      " 3   originChamberCode        50 non-null     object\n",
      " 4   number                   50 non-null     object\n",
      " 5   url                      50 non-null     object\n",
      " 6   title                    50 non-null     object\n",
      " 7   updateDateIncludingText  50 non-null     object\n",
      " 8   latestAction             50 non-null     object\n",
      " 9   updateDate               50 non-null     object\n",
      "dtypes: object(10)\n",
      "memory usage: 4.0+ KB\n"
     ]
    }
   ],
   "source": [
    "# get the next LIMIT # of bills and add it to the data frame over and over\n",
    "for i in range(1, 5):\n",
    "    offset = i * LIMIT\n",
    "    more_data, _ = client.get(f'bill?format=json&limit={LIMIT}&offset={offset}') \n",
    "    more_bills = xmltodict.parse(more_data)['api-root']['bills']['bill']\n",
    "    more_rows = pd.DataFrame(more_bills)\n",
    "    df = pd.concat([df, more_rows], ignore_index=True)\n",
    "df.info()"
   ]
  },
  {
   "cell_type": "code",
   "execution_count": 95,
   "id": "db507ef2",
   "metadata": {},
   "outputs": [],
   "source": [
    "# save as csv \n",
    "# # probably want to go to dropbox or something, not directly in the repository\n",
    "df.to_csv('congress_bills.csv') "
   ]
  }
 ],
 "metadata": {
  "kernelspec": {
   "display_name": "WillABill",
   "language": "python",
   "name": "python3"
  },
  "language_info": {
   "codemirror_mode": {
    "name": "ipython",
    "version": 3
   },
   "file_extension": ".py",
   "mimetype": "text/x-python",
   "name": "python",
   "nbconvert_exporter": "python",
   "pygments_lexer": "ipython3",
   "version": "3.12.11"
  }
 },
 "nbformat": 4,
 "nbformat_minor": 5
}
